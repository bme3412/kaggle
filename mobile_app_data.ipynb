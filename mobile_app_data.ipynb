{
 "cells": [
  {
   "cell_type": "code",
   "execution_count": 1,
   "id": "d9531655-ca1b-4d7d-bf74-c40e92959982",
   "metadata": {},
   "outputs": [],
   "source": [
    "import pandas as pd\n",
    "import polars as pl\n",
    "import geopandas as gpd\n",
    "from bokeh.io import output_file, show\n",
    "from bokeh.models import ColumnDataSource, ColorBar\n",
    "from bokeh.plotting import figure\n",
    "from bokeh.transform import linear_cmap"
   ]
  },
  {
   "cell_type": "code",
   "execution_count": 2,
   "id": "ccf1360c-ba6b-461f-8cce-89c8e981ea63",
   "metadata": {},
   "outputs": [],
   "source": [
    "q = pl.scan_parquet(\"usage_analytics.parquet\")\n",
    "df = q.collect()"
   ]
  },
  {
   "cell_type": "code",
   "execution_count": 3,
   "id": "60f7235e-b4b9-42ae-906e-80c3cb9f7b33",
   "metadata": {},
   "outputs": [
    {
     "data": {
      "text/plain": [
       "1066255"
      ]
     },
     "execution_count": 3,
     "metadata": {},
     "output_type": "execute_result"
    }
   ],
   "source": [
    "len(df)"
   ]
  },
  {
   "cell_type": "code",
   "execution_count": 4,
   "id": "a32403ce-b5da-40b6-8070-954d315d2651",
   "metadata": {},
   "outputs": [
    {
     "data": {
      "text/plain": [
       "['PANELISTID',\n",
       " 'AGE',\n",
       " 'GENDER',\n",
       " 'ETHNICITY',\n",
       " 'FACTID',\n",
       " 'DEVICEMAKEMODEL',\n",
       " 'OPERATOR',\n",
       " 'STARTMARKET',\n",
       " 'STARTINBUILDING',\n",
       " 'STARTZIPCODE',\n",
       " 'STARTTIMESTAMP',\n",
       " 'STARTLONGITUDE',\n",
       " 'STARTLATITUDE',\n",
       " 'APPNAME',\n",
       " 'APP_TITLE',\n",
       " 'FOREGROUNDDURATION',\n",
       " 'FOREGROUNDENDTIME',\n",
       " 'FOREGROUNDSTARTTIME',\n",
       " 'SCREENOFFTIME',\n",
       " 'SCREENONDURATION',\n",
       " 'SCREENONTIME',\n",
       " 'VISIBLEDURATION',\n",
       " 'VISIBLEENDTIME',\n",
       " 'VISIBLESTARTTIME',\n",
       " 'ISP',\n",
       " 'START_DATACONNTECH',\n",
       " 'YEAR',\n",
       " 'MONTH',\n",
       " 'DAY',\n",
       " '__index_level_0__']"
      ]
     },
     "execution_count": 4,
     "metadata": {},
     "output_type": "execute_result"
    }
   ],
   "source": [
    "df.columns"
   ]
  },
  {
   "cell_type": "code",
   "execution_count": 5,
   "id": "9c044def-204b-4919-9e33-18474a61bef3",
   "metadata": {},
   "outputs": [
    {
     "data": {
      "text/html": [
       "<div><style>\n",
       ".dataframe > thead > tr > th,\n",
       ".dataframe > tbody > tr > td {\n",
       "  text-align: right;\n",
       "  white-space: pre-wrap;\n",
       "}\n",
       "</style>\n",
       "<small>shape: (5, 2)</small><table border=\"1\" class=\"dataframe\"><thead><tr><th>APP_TITLE</th><th>counts</th></tr><tr><td>str</td><td>u32</td></tr></thead><tbody><tr><td>&quot;ROBLOX&quot;</td><td>14326</td></tr><tr><td>&quot;Discord&quot;</td><td>120239</td></tr><tr><td>&quot;WhatsApp Messe…</td><td>296458</td></tr><tr><td>&quot;Tik Tok&quot;</td><td>414124</td></tr><tr><td>&quot;Yahoo Sports&quot;</td><td>2572</td></tr></tbody></table></div>"
      ],
      "text/plain": [
       "shape: (5, 2)\n",
       "┌────────────────────┬────────┐\n",
       "│ APP_TITLE          ┆ counts │\n",
       "│ ---                ┆ ---    │\n",
       "│ str                ┆ u32    │\n",
       "╞════════════════════╪════════╡\n",
       "│ ROBLOX             ┆ 14326  │\n",
       "│ Discord            ┆ 120239 │\n",
       "│ WhatsApp Messenger ┆ 296458 │\n",
       "│ Tik Tok            ┆ 414124 │\n",
       "│ Yahoo Sports       ┆ 2572   │\n",
       "└────────────────────┴────────┘"
      ]
     },
     "execution_count": 5,
     "metadata": {},
     "output_type": "execute_result"
    }
   ],
   "source": [
    "df['APP_TITLE'].value_counts().head()"
   ]
  },
  {
   "cell_type": "code",
   "execution_count": 6,
   "id": "55c99ec3-d606-47a3-8878-f147e1bc33a9",
   "metadata": {},
   "outputs": [
    {
     "data": {
      "text/html": [
       "<div><style>\n",
       ".dataframe > thead > tr > th,\n",
       ".dataframe > tbody > tr > td {\n",
       "  text-align: right;\n",
       "  white-space: pre-wrap;\n",
       "}\n",
       "</style>\n",
       "<small>shape: (7, 2)</small><table border=\"1\" class=\"dataframe\"><thead><tr><th>DAY</th><th>counts</th></tr><tr><td>i64</td><td>u32</td></tr></thead><tbody><tr><td>6</td><td>159630</td></tr><tr><td>8</td><td>141993</td></tr><tr><td>5</td><td>161985</td></tr><tr><td>7</td><td>153123</td></tr><tr><td>3</td><td>149614</td></tr><tr><td>4</td><td>148897</td></tr><tr><td>2</td><td>151013</td></tr></tbody></table></div>"
      ],
      "text/plain": [
       "shape: (7, 2)\n",
       "┌─────┬────────┐\n",
       "│ DAY ┆ counts │\n",
       "│ --- ┆ ---    │\n",
       "│ i64 ┆ u32    │\n",
       "╞═════╪════════╡\n",
       "│ 6   ┆ 159630 │\n",
       "│ 8   ┆ 141993 │\n",
       "│ 5   ┆ 161985 │\n",
       "│ 7   ┆ 153123 │\n",
       "│ 3   ┆ 149614 │\n",
       "│ 4   ┆ 148897 │\n",
       "│ 2   ┆ 151013 │\n",
       "└─────┴────────┘"
      ]
     },
     "execution_count": 6,
     "metadata": {},
     "output_type": "execute_result"
    }
   ],
   "source": [
    "df['DAY'].value_counts()"
   ]
  },
  {
   "cell_type": "code",
   "execution_count": 7,
   "id": "d7f0a7b9-b96e-4c2a-bbd0-66d75aa4f0d3",
   "metadata": {},
   "outputs": [],
   "source": [
    "\n",
    "\n",
    "df_dis = df.filter(pl.col(\"APP_TITLE\") == 'Disney+')"
   ]
  },
  {
   "cell_type": "code",
   "execution_count": 8,
   "id": "e34f3061-6514-4ffc-b6b0-e48b12d79023",
   "metadata": {},
   "outputs": [
    {
     "data": {
      "text/plain": [
       "4472"
      ]
     },
     "execution_count": 8,
     "metadata": {},
     "output_type": "execute_result"
    }
   ],
   "source": [
    "len(df_dis)"
   ]
  },
  {
   "cell_type": "code",
   "execution_count": 9,
   "id": "a553eebe-cb48-487d-842f-0a2256b98d7e",
   "metadata": {},
   "outputs": [
    {
     "data": {
      "text/html": [
       "<div><style>\n",
       ".dataframe > thead > tr > th,\n",
       ".dataframe > tbody > tr > td {\n",
       "  text-align: right;\n",
       "  white-space: pre-wrap;\n",
       "}\n",
       "</style>\n",
       "<small>shape: (10, 30)</small><table border=\"1\" class=\"dataframe\"><thead><tr><th>PANELISTID</th><th>AGE</th><th>GENDER</th><th>ETHNICITY</th><th>FACTID</th><th>DEVICEMAKEMODEL</th><th>OPERATOR</th><th>STARTMARKET</th><th>STARTINBUILDING</th><th>STARTZIPCODE</th><th>STARTTIMESTAMP</th><th>STARTLONGITUDE</th><th>STARTLATITUDE</th><th>APPNAME</th><th>APP_TITLE</th><th>FOREGROUNDDURATION</th><th>FOREGROUNDENDTIME</th><th>FOREGROUNDSTARTTIME</th><th>SCREENOFFTIME</th><th>SCREENONDURATION</th><th>SCREENONTIME</th><th>VISIBLEDURATION</th><th>VISIBLEENDTIME</th><th>VISIBLESTARTTIME</th><th>ISP</th><th>START_DATACONNTECH</th><th>YEAR</th><th>MONTH</th><th>DAY</th><th>__index_level_0__</th></tr><tr><td>str</td><td>f64</td><td>str</td><td>str</td><td>str</td><td>str</td><td>str</td><td>str</td><td>str</td><td>str</td><td>datetime[ns]</td><td>f64</td><td>f64</td><td>str</td><td>str</td><td>i64</td><td>datetime[ns]</td><td>datetime[ns]</td><td>datetime[ns]</td><td>f64</td><td>datetime[ns]</td><td>i64</td><td>datetime[ns]</td><td>datetime[ns]</td><td>str</td><td>str</td><td>i64</td><td>i64</td><td>i64</td><td>i64</td></tr></thead><tbody><tr><td>&quot;2511158&quot;</td><td>28.0</td><td>&quot;FEMALE&quot;</td><td>&quot;White&quot;</td><td>&quot;bf58211a5356b0…</td><td>&quot;samsung SM-G77…</td><td>&quot;Unknown&quot;</td><td>&quot;Bakersfield&quot;</td><td>null</td><td>&quot;93536&quot;</td><td>2021-05-02 03:56:38</td><td>-118.185652</td><td>34.709053</td><td>&quot;com.disney.dis…</td><td>&quot;Disney+&quot;</td><td>28030</td><td>2021-05-02 03:57:06.239</td><td>2021-05-02 03:56:38.209</td><td>2021-05-02 04:04:04.790</td><td>531442.0</td><td>2021-05-02 03:55:13.348</td><td>28030</td><td>2021-05-02 03:57:06.239</td><td>2021-05-02 03:56:38.209</td><td>&quot;Verizon&quot;</td><td>&quot;4G/LTE&quot;</td><td>2021</td><td>5</td><td>2</td><td>2783</td></tr><tr><td>&quot;2511239&quot;</td><td>31.0</td><td>&quot;FEMALE&quot;</td><td>&quot;White&quot;</td><td>&quot;b34ddf7b1276c5…</td><td>&quot;samsung SM-N97…</td><td>&quot;Unknown&quot;</td><td>&quot;Greenville&quot;</td><td>null</td><td>&quot;29385&quot;</td><td>2021-05-07 01:15:57</td><td>-82.141004</td><td>34.982729</td><td>&quot;com.disney.dis…</td><td>&quot;Disney+&quot;</td><td>1385804</td><td>2021-05-07 01:39:03.428</td><td>2021-05-07 01:15:57.624</td><td>2021-05-07 01:39:04.302</td><td>1.41486e6</td><td>2021-05-07 01:15:29.442</td><td>1385804</td><td>2021-05-07 01:39:03.428</td><td>2021-05-07 01:15:57.624</td><td>&quot;Verizon&quot;</td><td>&quot;4G/LTE&quot;</td><td>2021</td><td>5</td><td>7</td><td>2797</td></tr><tr><td>&quot;2511239&quot;</td><td>31.0</td><td>&quot;FEMALE&quot;</td><td>&quot;White&quot;</td><td>&quot;73c7a8d78b56d6…</td><td>&quot;samsung SM-N97…</td><td>&quot;Unknown&quot;</td><td>&quot;Greenville&quot;</td><td>null</td><td>&quot;29365&quot;</td><td>2021-05-07 10:00:49</td><td>-82.141058</td><td>34.982742</td><td>&quot;com.disney.dis…</td><td>&quot;Disney+&quot;</td><td>1468</td><td>2021-05-07 10:00:51.285</td><td>2021-05-07 10:00:49.817</td><td>2021-05-07 10:02:00.419</td><td>72402.0</td><td>2021-05-07 10:00:48.017</td><td>1468</td><td>2021-05-07 10:00:51.285</td><td>2021-05-07 10:00:49.817</td><td>&quot;Verizon&quot;</td><td>&quot;4G/LTE&quot;</td><td>2021</td><td>5</td><td>7</td><td>2798</td></tr><tr><td>&quot;2511239&quot;</td><td>31.0</td><td>&quot;FEMALE&quot;</td><td>&quot;White&quot;</td><td>&quot;7712899bcdee12…</td><td>&quot;samsung SM-N97…</td><td>&quot;Unknown&quot;</td><td>&quot;Greenville&quot;</td><td>null</td><td>&quot;29385&quot;</td><td>2021-05-07 01:39:06</td><td>-82.141059</td><td>34.982752</td><td>&quot;com.disney.dis…</td><td>&quot;Disney+&quot;</td><td>139105</td><td>2021-05-07 01:41:24.931</td><td>2021-05-07 01:39:05.826</td><td>2021-05-07 01:41:25.898</td><td>139525.0</td><td>2021-05-07 01:39:06.373</td><td>138558</td><td>2021-05-07 01:41:24.931</td><td>2021-05-07 01:39:06.373</td><td>&quot;Verizon&quot;</td><td>&quot;4G/LTE&quot;</td><td>2021</td><td>5</td><td>7</td><td>2799</td></tr><tr><td>&quot;2511239&quot;</td><td>31.0</td><td>&quot;FEMALE&quot;</td><td>&quot;White&quot;</td><td>&quot;b34ddf7b1276c5…</td><td>&quot;samsung SM-N97…</td><td>&quot;Unknown&quot;</td><td>&quot;Greenville&quot;</td><td>null</td><td>&quot;29385&quot;</td><td>2021-05-07 01:15:37</td><td>-82.141004</td><td>34.982729</td><td>&quot;com.disney.dis…</td><td>&quot;Disney+&quot;</td><td>20130</td><td>2021-05-07 01:15:57.616</td><td>2021-05-07 01:15:37.486</td><td>2021-05-07 01:39:04.302</td><td>1.41486e6</td><td>2021-05-07 01:15:29.442</td><td>20130</td><td>2021-05-07 01:15:57.616</td><td>2021-05-07 01:15:37.486</td><td>&quot;Verizon&quot;</td><td>&quot;4G/LTE&quot;</td><td>2021</td><td>5</td><td>7</td><td>2800</td></tr><tr><td>&quot;2494020&quot;</td><td>37.0</td><td>&quot;FEMALE&quot;</td><td>&quot;White&quot;</td><td>&quot;6c5b59567c94fd…</td><td>&quot;Google Pixel 4…</td><td>&quot;T-Mobile (US)&quot;</td><td>&quot;Salt Lake City…</td><td>null</td><td>&quot;84094&quot;</td><td>2021-05-02 03:08:09</td><td>-111.89596</td><td>40.602138</td><td>&quot;com.disney.dis…</td><td>&quot;Disney+&quot;</td><td>8889</td><td>2021-05-02 03:08:18.513</td><td>2021-05-02 03:08:09.624</td><td>2021-05-02 03:29:50.774</td><td>1.306384e6</td><td>2021-05-02 03:08:04.390</td><td>8889</td><td>2021-05-02 03:08:18.513</td><td>2021-05-02 03:08:09.624</td><td>null</td><td>&quot;4G/LTE&quot;</td><td>2021</td><td>5</td><td>2</td><td>5722</td></tr><tr><td>&quot;2493868&quot;</td><td>21.0</td><td>&quot;MALE&quot;</td><td>&quot;Mixed racial b…</td><td>&quot;e50763754ada42…</td><td>&quot;samsung SM-N96…</td><td>&quot;T-Mobile (US)&quot;</td><td>&quot;Chicago&quot;</td><td>&quot;1&quot;</td><td>&quot;60613&quot;</td><td>2021-05-08 04:26:56</td><td>-87.648112</td><td>41.958655</td><td>&quot;com.disney.dis…</td><td>&quot;Disney+&quot;</td><td>88784</td><td>2021-05-08 04:28:24.786</td><td>2021-05-08 04:26:56.002</td><td>2021-05-08 04:28:25.962</td><td>106944.0</td><td>2021-05-08 04:26:39.018</td><td>88784</td><td>2021-05-08 04:28:24.786</td><td>2021-05-08 04:26:56.002</td><td>&quot;T-Mobile&quot;</td><td>&quot;4G/LTE&quot;</td><td>2021</td><td>5</td><td>8</td><td>6138</td></tr><tr><td>&quot;2493868&quot;</td><td>21.0</td><td>&quot;MALE&quot;</td><td>&quot;Mixed racial b…</td><td>&quot;cf94a8ff6f03d5…</td><td>&quot;samsung SM-N96…</td><td>&quot;T-Mobile (US)&quot;</td><td>&quot;Chicago&quot;</td><td>null</td><td>&quot;60613&quot;</td><td>2021-05-08 04:16:43</td><td>-87.648066</td><td>41.958537</td><td>&quot;com.disney.dis…</td><td>&quot;Disney+&quot;</td><td>230448</td><td>2021-05-08 04:20:33.550</td><td>2021-05-08 04:16:43.102</td><td>2021-05-08 04:20:34.801</td><td>232856.0</td><td>2021-05-08 04:16:41.945</td><td>230448</td><td>2021-05-08 04:20:33.550</td><td>2021-05-08 04:16:43.102</td><td>&quot;T-Mobile&quot;</td><td>&quot;4G/LTE&quot;</td><td>2021</td><td>5</td><td>8</td><td>6139</td></tr><tr><td>&quot;2493868&quot;</td><td>21.0</td><td>&quot;MALE&quot;</td><td>&quot;Mixed racial b…</td><td>&quot;e50763754ada42…</td><td>&quot;samsung SM-N96…</td><td>&quot;T-Mobile (US)&quot;</td><td>&quot;Chicago&quot;</td><td>null</td><td>&quot;60613&quot;</td><td>2021-05-08 04:25:51</td><td>-87.648112</td><td>41.958655</td><td>&quot;com.disney.dis…</td><td>&quot;Disney+&quot;</td><td>11007</td><td>2021-05-08 04:26:02.684</td><td>2021-05-08 04:25:51.677</td><td>2021-05-08 04:26:03.438</td><td>82077.0</td><td>2021-05-08 04:24:41.361</td><td>11007</td><td>2021-05-08 04:26:02.684</td><td>2021-05-08 04:25:51.677</td><td>&quot;T-Mobile&quot;</td><td>&quot;4G/LTE&quot;</td><td>2021</td><td>5</td><td>8</td><td>6140</td></tr><tr><td>&quot;2493868&quot;</td><td>21.0</td><td>&quot;MALE&quot;</td><td>&quot;Mixed racial b…</td><td>&quot;5e13a384026ece…</td><td>&quot;samsung SM-N96…</td><td>&quot;T-Mobile (US)&quot;</td><td>&quot;Chicago&quot;</td><td>null</td><td>&quot;60613&quot;</td><td>2021-05-08 04:10:08</td><td>-87.648092</td><td>41.958546</td><td>&quot;com.disney.dis…</td><td>&quot;Disney+&quot;</td><td>391270</td><td>2021-05-08 04:16:40.257</td><td>2021-05-08 04:10:08.987</td><td>2021-05-08 04:16:41.405</td><td>392924.0</td><td>2021-05-08 04:10:08.481</td><td>391270</td><td>2021-05-08 04:16:40.257</td><td>2021-05-08 04:10:08.987</td><td>&quot;T-Mobile&quot;</td><td>&quot;4G/LTE&quot;</td><td>2021</td><td>5</td><td>8</td><td>6146</td></tr></tbody></table></div>"
      ],
      "text/plain": [
       "shape: (10, 30)\n",
       "┌────────────┬──────┬────────┬──────────────┬───┬──────┬───────┬─────┬───────────────────┐\n",
       "│ PANELISTID ┆ AGE  ┆ GENDER ┆ ETHNICITY    ┆ … ┆ YEAR ┆ MONTH ┆ DAY ┆ __index_level_0__ │\n",
       "│ ---        ┆ ---  ┆ ---    ┆ ---          ┆   ┆ ---  ┆ ---   ┆ --- ┆ ---               │\n",
       "│ str        ┆ f64  ┆ str    ┆ str          ┆   ┆ i64  ┆ i64   ┆ i64 ┆ i64               │\n",
       "╞════════════╪══════╪════════╪══════════════╪═══╪══════╪═══════╪═════╪═══════════════════╡\n",
       "│ 2511158    ┆ 28.0 ┆ FEMALE ┆ White        ┆ … ┆ 2021 ┆ 5     ┆ 2   ┆ 2783              │\n",
       "│ 2511239    ┆ 31.0 ┆ FEMALE ┆ White        ┆ … ┆ 2021 ┆ 5     ┆ 7   ┆ 2797              │\n",
       "│ 2511239    ┆ 31.0 ┆ FEMALE ┆ White        ┆ … ┆ 2021 ┆ 5     ┆ 7   ┆ 2798              │\n",
       "│ 2511239    ┆ 31.0 ┆ FEMALE ┆ White        ┆ … ┆ 2021 ┆ 5     ┆ 7   ┆ 2799              │\n",
       "│ …          ┆ …    ┆ …      ┆ …            ┆ … ┆ …    ┆ …     ┆ …   ┆ …                 │\n",
       "│ 2493868    ┆ 21.0 ┆ MALE   ┆ Mixed racial ┆ … ┆ 2021 ┆ 5     ┆ 8   ┆ 6138              │\n",
       "│            ┆      ┆        ┆ background   ┆   ┆      ┆       ┆     ┆                   │\n",
       "│ 2493868    ┆ 21.0 ┆ MALE   ┆ Mixed racial ┆ … ┆ 2021 ┆ 5     ┆ 8   ┆ 6139              │\n",
       "│            ┆      ┆        ┆ background   ┆   ┆      ┆       ┆     ┆                   │\n",
       "│ 2493868    ┆ 21.0 ┆ MALE   ┆ Mixed racial ┆ … ┆ 2021 ┆ 5     ┆ 8   ┆ 6140              │\n",
       "│            ┆      ┆        ┆ background   ┆   ┆      ┆       ┆     ┆                   │\n",
       "│ 2493868    ┆ 21.0 ┆ MALE   ┆ Mixed racial ┆ … ┆ 2021 ┆ 5     ┆ 8   ┆ 6146              │\n",
       "│            ┆      ┆        ┆ background   ┆   ┆      ┆       ┆     ┆                   │\n",
       "└────────────┴──────┴────────┴──────────────┴───┴──────┴───────┴─────┴───────────────────┘"
      ]
     },
     "execution_count": 9,
     "metadata": {},
     "output_type": "execute_result"
    }
   ],
   "source": [
    "df_dis.head(10)"
   ]
  },
  {
   "cell_type": "code",
   "execution_count": 11,
   "id": "4a092849-aa12-484f-a7ca-32b667c6ff2c",
   "metadata": {},
   "outputs": [
    {
     "data": {
      "text/html": [
       "<div><style>\n",
       ".dataframe > thead > tr > th,\n",
       ".dataframe > tbody > tr > td {\n",
       "  text-align: right;\n",
       "  white-space: pre-wrap;\n",
       "}\n",
       "</style>\n",
       "<small>shape: (5, 2)</small><table border=\"1\" class=\"dataframe\"><thead><tr><th>STARTMARKET</th><th>counts</th></tr><tr><td>str</td><td>u32</td></tr></thead><tbody><tr><td>&quot;MI 3 - Emmet&quot;</td><td>1</td></tr><tr><td>&quot;Bangor&quot;</td><td>4</td></tr><tr><td>&quot;MO 7 - Saline&quot;</td><td>1</td></tr><tr><td>&quot;WI 9 - Columbi…</td><td>7</td></tr><tr><td>&quot;San Antonio&quot;</td><td>60</td></tr></tbody></table></div>"
      ],
      "text/plain": [
       "shape: (5, 2)\n",
       "┌─────────────────┬────────┐\n",
       "│ STARTMARKET     ┆ counts │\n",
       "│ ---             ┆ ---    │\n",
       "│ str             ┆ u32    │\n",
       "╞═════════════════╪════════╡\n",
       "│ MI 3 - Emmet    ┆ 1      │\n",
       "│ Bangor          ┆ 4      │\n",
       "│ MO 7 - Saline   ┆ 1      │\n",
       "│ WI 9 - Columbia ┆ 7      │\n",
       "│ San Antonio     ┆ 60     │\n",
       "└─────────────────┴────────┘"
      ]
     },
     "execution_count": 11,
     "metadata": {},
     "output_type": "execute_result"
    }
   ],
   "source": [
    "df_dis['STARTMARKET'].value_counts().head()"
   ]
  },
  {
   "cell_type": "code",
   "execution_count": 12,
   "id": "e304ad22-1d25-4bac-97e7-1530c95e9c70",
   "metadata": {},
   "outputs": [
    {
     "data": {
      "text/html": [
       "<div><style>\n",
       ".dataframe > thead > tr > th,\n",
       ".dataframe > tbody > tr > td {\n",
       "  text-align: right;\n",
       "  white-space: pre-wrap;\n",
       "}\n",
       "</style>\n",
       "<small>shape: (5, 1)</small><table border=\"1\" class=\"dataframe\"><thead><tr><th>STARTMARKET</th></tr><tr><td>struct[2]</td></tr></thead><tbody><tr><td>{&quot;MS 10 - Smith&quot;,3}</td></tr><tr><td>{&quot;Flint&quot;,17}</td></tr><tr><td>{&quot;Athens&quot;,2}</td></tr><tr><td>{&quot;Boise City&quot;,3}</td></tr><tr><td>{&quot;ND 1 - Divide&quot;,30}</td></tr></tbody></table></div>"
      ],
      "text/plain": [
       "shape: (5, 1)\n",
       "┌──────────────────────┐\n",
       "│ STARTMARKET          │\n",
       "│ ---                  │\n",
       "│ struct[2]            │\n",
       "╞══════════════════════╡\n",
       "│ {\"MS 10 - Smith\",3}  │\n",
       "│ {\"Flint\",17}         │\n",
       "│ {\"Athens\",2}         │\n",
       "│ {\"Boise City\",3}     │\n",
       "│ {\"ND 1 - Divide\",30} │\n",
       "└──────────────────────┘"
      ]
     },
     "execution_count": 12,
     "metadata": {},
     "output_type": "execute_result"
    }
   ],
   "source": [
    "df_dis.select(pl.col('STARTMARKET').value_counts()).head()"
   ]
  },
  {
   "cell_type": "code",
   "execution_count": 21,
   "id": "301d9e93-4d63-4654-9f95-d93799f7db3a",
   "metadata": {},
   "outputs": [
    {
     "data": {
      "text/plain": [
       "polars.dataframe.frame.DataFrame"
      ]
     },
     "execution_count": 21,
     "metadata": {},
     "output_type": "execute_result"
    }
   ],
   "source": [
    "type(df_dis)"
   ]
  },
  {
   "cell_type": "code",
   "execution_count": 31,
   "id": "4fce0329-0138-4fd2-9274-8d0fae88463d",
   "metadata": {},
   "outputs": [
    {
     "ename": "AttributeError",
     "evalue": "'DataFrame' object has no attribute 'with_column'",
     "output_type": "error",
     "traceback": [
      "\u001b[0;31m---------------------------------------------------------------------------\u001b[0m",
      "\u001b[0;31mAttributeError\u001b[0m                            Traceback (most recent call last)",
      "Cell \u001b[0;32mIn[31], line 1\u001b[0m\n\u001b[0;32m----> 1\u001b[0m df_dis \u001b[38;5;241m=\u001b[39m \u001b[43mdf_dis\u001b[49m\u001b[38;5;241;43m.\u001b[39;49m\u001b[43mwith_column\u001b[49m(\n\u001b[1;32m      2\u001b[0m     df_dis[\u001b[38;5;124m'\u001b[39m\u001b[38;5;124mVISIBLESTARTTIME\u001b[39m\u001b[38;5;124m'\u001b[39m]\u001b[38;5;241m.\u001b[39mcast(pl\u001b[38;5;241m.\u001b[39mUtf8)\u001b[38;5;241m.\u001b[39mstr\u001b[38;5;241m.\u001b[39mslice(\u001b[38;5;241m0\u001b[39m, \u001b[38;5;241m7\u001b[39m)\u001b[38;5;241m.\u001b[39malias(\u001b[38;5;124m'\u001b[39m\u001b[38;5;124myear_month\u001b[39m\u001b[38;5;124m'\u001b[39m)\n\u001b[1;32m      3\u001b[0m )\n",
      "\u001b[0;31mAttributeError\u001b[0m: 'DataFrame' object has no attribute 'with_column'"
     ]
    }
   ],
   "source": [
    "df_dis = df_dis.with_column(\n",
    "    df_dis['VISIBLESTARTTIME'].cast(pl.Utf8).str.slice(0, 7).alias('year_month')\n",
    ")"
   ]
  },
  {
   "cell_type": "code",
   "execution_count": 37,
   "id": "c156f05d-33fa-4cdc-b99f-98d31946d977",
   "metadata": {},
   "outputs": [
    {
     "data": {
      "text/html": [
       "<div><style>\n",
       ".dataframe > thead > tr > th,\n",
       ".dataframe > tbody > tr > td {\n",
       "  text-align: right;\n",
       "  white-space: pre-wrap;\n",
       "}\n",
       "</style>\n",
       "<small>shape: (20, 30)</small><table border=\"1\" class=\"dataframe\"><thead><tr><th>PANELISTID</th><th>AGE</th><th>GENDER</th><th>ETHNICITY</th><th>FACTID</th><th>DEVICEMAKEMODEL</th><th>OPERATOR</th><th>STARTMARKET</th><th>STARTINBUILDING</th><th>STARTZIPCODE</th><th>STARTTIMESTAMP</th><th>STARTLONGITUDE</th><th>STARTLATITUDE</th><th>APPNAME</th><th>APP_TITLE</th><th>FOREGROUNDDURATION</th><th>FOREGROUNDENDTIME</th><th>FOREGROUNDSTARTTIME</th><th>SCREENOFFTIME</th><th>SCREENONDURATION</th><th>SCREENONTIME</th><th>VISIBLEDURATION</th><th>VISIBLEENDTIME</th><th>VISIBLESTARTTIME</th><th>ISP</th><th>START_DATACONNTECH</th><th>YEAR</th><th>MONTH</th><th>DAY</th><th>__index_level_0__</th></tr><tr><td>str</td><td>f64</td><td>str</td><td>str</td><td>str</td><td>str</td><td>str</td><td>str</td><td>str</td><td>str</td><td>datetime[ns]</td><td>f64</td><td>f64</td><td>str</td><td>str</td><td>i64</td><td>datetime[ns]</td><td>datetime[ns]</td><td>datetime[ns]</td><td>f64</td><td>datetime[ns]</td><td>i64</td><td>datetime[ns]</td><td>datetime[ns]</td><td>str</td><td>str</td><td>i64</td><td>i64</td><td>i64</td><td>i64</td></tr></thead><tbody><tr><td>&quot;2441985&quot;</td><td>28.0</td><td>&quot;FEMALE&quot;</td><td>&quot;White&quot;</td><td>&quot;8345334aafcd3e…</td><td>&quot;samsung SM-G97…</td><td>&quot;Unknown&quot;</td><td>&quot;TX 10 - Navarr…</td><td>null</td><td>&quot;75148&quot;</td><td>2021-05-05 16:08:25</td><td>-96.012942</td><td>32.175355</td><td>&quot;com.zhiliaoapp…</td><td>&quot;Tik Tok&quot;</td><td>2344</td><td>2021-05-05 16:08:28.120</td><td>2021-05-05 16:08:25.776</td><td>2021-05-05 16:12:23.779</td><td>1.223888e6</td><td>2021-05-05 15:51:59.891</td><td>2344</td><td>2021-05-05 16:08:28.120</td><td>2021-05-05 16:08:25.776</td><td>null</td><td>&quot;4G/LTE&quot;</td><td>2021</td><td>5</td><td>5</td><td>0</td></tr><tr><td>&quot;2441985&quot;</td><td>28.0</td><td>&quot;FEMALE&quot;</td><td>&quot;White&quot;</td><td>&quot;8345334aafcd3e…</td><td>&quot;samsung SM-G97…</td><td>&quot;Unknown&quot;</td><td>&quot;TX 10 - Navarr…</td><td>null</td><td>&quot;75148&quot;</td><td>2021-05-05 16:07:54</td><td>-96.012942</td><td>32.175355</td><td>&quot;com.zhiliaoapp…</td><td>&quot;Tik Tok&quot;</td><td>4888</td><td>2021-05-05 16:07:59.349</td><td>2021-05-05 16:07:54.461</td><td>2021-05-05 16:12:23.779</td><td>1.223888e6</td><td>2021-05-05 15:51:59.891</td><td>4888</td><td>2021-05-05 16:07:59.349</td><td>2021-05-05 16:07:54.461</td><td>null</td><td>&quot;4G/LTE&quot;</td><td>2021</td><td>5</td><td>5</td><td>1</td></tr><tr><td>&quot;2441985&quot;</td><td>28.0</td><td>&quot;FEMALE&quot;</td><td>&quot;White&quot;</td><td>&quot;8345334aafcd3e…</td><td>&quot;samsung SM-G97…</td><td>&quot;Unknown&quot;</td><td>&quot;TX 10 - Navarr…</td><td>null</td><td>&quot;75148&quot;</td><td>2021-05-05 16:09:00</td><td>-96.012942</td><td>32.175355</td><td>&quot;com.zhiliaoapp…</td><td>&quot;Tik Tok&quot;</td><td>71556</td><td>2021-05-05 16:10:11.821</td><td>2021-05-05 16:09:00.265</td><td>2021-05-05 16:12:23.779</td><td>1.223888e6</td><td>2021-05-05 15:51:59.891</td><td>71556</td><td>2021-05-05 16:10:11.821</td><td>2021-05-05 16:09:00.265</td><td>null</td><td>&quot;4G/LTE&quot;</td><td>2021</td><td>5</td><td>5</td><td>2</td></tr><tr><td>&quot;2441985&quot;</td><td>28.0</td><td>&quot;FEMALE&quot;</td><td>&quot;White&quot;</td><td>&quot;8345334aafcd3e…</td><td>&quot;samsung SM-G97…</td><td>&quot;Unknown&quot;</td><td>&quot;TX 10 - Navarr…</td><td>null</td><td>&quot;75148&quot;</td><td>2021-05-05 16:08:18</td><td>-96.012942</td><td>32.175355</td><td>&quot;com.zhiliaoapp…</td><td>&quot;Tik Tok&quot;</td><td>6802</td><td>2021-05-05 16:08:25.734</td><td>2021-05-05 16:08:18.932</td><td>2021-05-05 16:12:23.779</td><td>1.223888e6</td><td>2021-05-05 15:51:59.891</td><td>6802</td><td>2021-05-05 16:08:25.734</td><td>2021-05-05 16:08:18.932</td><td>null</td><td>&quot;4G/LTE&quot;</td><td>2021</td><td>5</td><td>5</td><td>3</td></tr><tr><td>&quot;2441985&quot;</td><td>28.0</td><td>&quot;FEMALE&quot;</td><td>&quot;White&quot;</td><td>&quot;8345334aafcd3e…</td><td>&quot;samsung SM-G97…</td><td>&quot;Unknown&quot;</td><td>&quot;TX 10 - Navarr…</td><td>null</td><td>&quot;75148&quot;</td><td>2021-05-05 16:07:59</td><td>-96.012942</td><td>32.175355</td><td>&quot;com.zhiliaoapp…</td><td>&quot;Tik Tok&quot;</td><td>9116</td><td>2021-05-05 16:08:08.492</td><td>2021-05-05 16:07:59.376</td><td>2021-05-05 16:12:23.779</td><td>1.223888e6</td><td>2021-05-05 15:51:59.891</td><td>9116</td><td>2021-05-05 16:08:08.492</td><td>2021-05-05 16:07:59.376</td><td>null</td><td>&quot;4G/LTE&quot;</td><td>2021</td><td>5</td><td>5</td><td>4</td></tr><tr><td>&quot;2441985&quot;</td><td>28.0</td><td>&quot;FEMALE&quot;</td><td>&quot;White&quot;</td><td>&quot;8345334aafcd3e…</td><td>&quot;samsung SM-G97…</td><td>&quot;Unknown&quot;</td><td>&quot;TX 10 - Navarr…</td><td>null</td><td>&quot;75148&quot;</td><td>2021-05-05 16:07:44</td><td>-96.012942</td><td>32.175355</td><td>&quot;com.zhiliaoapp…</td><td>&quot;Tik Tok&quot;</td><td>9697</td><td>2021-05-05 16:07:54.439</td><td>2021-05-05 16:07:44.742</td><td>2021-05-05 16:12:23.779</td><td>1.223888e6</td><td>2021-05-05 15:51:59.891</td><td>9697</td><td>2021-05-05 16:07:54.439</td><td>2021-05-05 16:07:44.742</td><td>null</td><td>&quot;4G/LTE&quot;</td><td>2021</td><td>5</td><td>5</td><td>5</td></tr><tr><td>&quot;2441985&quot;</td><td>28.0</td><td>&quot;FEMALE&quot;</td><td>&quot;White&quot;</td><td>&quot;f28e0857efd885…</td><td>&quot;samsung SM-G97…</td><td>&quot;Unknown&quot;</td><td>&quot;TX 10 - Navarr…</td><td>null</td><td>&quot;75148&quot;</td><td>2021-05-05 16:15:24</td><td>-96.012943</td><td>32.17539</td><td>&quot;com.zhiliaoapp…</td><td>&quot;Tik Tok&quot;</td><td>305314</td><td>2021-05-05 16:20:29.830</td><td>2021-05-05 16:15:24.516</td><td>2021-05-05 16:28:06.391</td><td>942612.0</td><td>2021-05-05 16:12:23.779</td><td>305314</td><td>2021-05-05 16:20:29.830</td><td>2021-05-05 16:15:24.516</td><td>null</td><td>&quot;4G/LTE&quot;</td><td>2021</td><td>5</td><td>5</td><td>6</td></tr><tr><td>&quot;2441985&quot;</td><td>28.0</td><td>&quot;FEMALE&quot;</td><td>&quot;White&quot;</td><td>&quot;8345334aafcd3e…</td><td>&quot;samsung SM-G97…</td><td>&quot;Unknown&quot;</td><td>&quot;TX 10 - Navarr…</td><td>null</td><td>&quot;75148&quot;</td><td>2021-05-05 16:08:46</td><td>-96.012942</td><td>32.175355</td><td>&quot;com.zhiliaoapp…</td><td>&quot;Tik Tok&quot;</td><td>14033</td><td>2021-05-05 16:09:00.232</td><td>2021-05-05 16:08:46.199</td><td>2021-05-05 16:12:23.779</td><td>1.223888e6</td><td>2021-05-05 15:51:59.891</td><td>14033</td><td>2021-05-05 16:09:00.232</td><td>2021-05-05 16:08:46.199</td><td>null</td><td>&quot;4G/LTE&quot;</td><td>2021</td><td>5</td><td>5</td><td>7</td></tr><tr><td>&quot;2441985&quot;</td><td>28.0</td><td>&quot;FEMALE&quot;</td><td>&quot;White&quot;</td><td>&quot;8345334aafcd3e…</td><td>&quot;samsung SM-G97…</td><td>&quot;Unknown&quot;</td><td>&quot;TX 10 - Navarr…</td><td>null</td><td>&quot;75148&quot;</td><td>2021-05-05 16:08:28</td><td>-96.012942</td><td>32.175355</td><td>&quot;com.zhiliaoapp…</td><td>&quot;Tik Tok&quot;</td><td>18026</td><td>2021-05-05 16:08:46.174</td><td>2021-05-05 16:08:28.148</td><td>2021-05-05 16:12:23.779</td><td>1.223888e6</td><td>2021-05-05 15:51:59.891</td><td>18026</td><td>2021-05-05 16:08:46.174</td><td>2021-05-05 16:08:28.148</td><td>null</td><td>&quot;4G/LTE&quot;</td><td>2021</td><td>5</td><td>5</td><td>8</td></tr><tr><td>&quot;2441985&quot;</td><td>28.0</td><td>&quot;FEMALE&quot;</td><td>&quot;White&quot;</td><td>&quot;f8e1a7a2ab4dd9…</td><td>&quot;samsung SM-G97…</td><td>&quot;Unknown&quot;</td><td>&quot;TX 10 - Navarr…</td><td>null</td><td>&quot;75148&quot;</td><td>2021-05-05 15:52:04</td><td>-96.012963</td><td>32.175392</td><td>&quot;com.zhiliaoapp…</td><td>&quot;Tik Tok&quot;</td><td>940067</td><td>2021-05-05 16:07:44.712</td><td>2021-05-05 15:52:04.645</td><td>2021-05-05 16:12:23.779</td><td>1.223888e6</td><td>2021-05-05 15:51:59.891</td><td>940067</td><td>2021-05-05 16:07:44.712</td><td>2021-05-05 15:52:04.645</td><td>null</td><td>&quot;Wifi&quot;</td><td>2021</td><td>5</td><td>5</td><td>9</td></tr><tr><td>&quot;2441985&quot;</td><td>28.0</td><td>&quot;FEMALE&quot;</td><td>&quot;White&quot;</td><td>&quot;8345334aafcd3e…</td><td>&quot;samsung SM-G97…</td><td>&quot;Unknown&quot;</td><td>&quot;TX 10 - Navarr…</td><td>null</td><td>&quot;75148&quot;</td><td>2021-05-05 16:08:08</td><td>-96.012942</td><td>32.175355</td><td>&quot;com.zhiliaoapp…</td><td>&quot;Tik Tok&quot;</td><td>10394</td><td>2021-05-05 16:08:18.915</td><td>2021-05-05 16:08:08.521</td><td>2021-05-05 16:12:23.779</td><td>1.223888e6</td><td>2021-05-05 15:51:59.891</td><td>10394</td><td>2021-05-05 16:08:18.915</td><td>2021-05-05 16:08:08.521</td><td>null</td><td>&quot;4G/LTE&quot;</td><td>2021</td><td>5</td><td>5</td><td>10</td></tr><tr><td>&quot;2441985&quot;</td><td>28.0</td><td>&quot;FEMALE&quot;</td><td>&quot;White&quot;</td><td>&quot;8345334aafcd3e…</td><td>&quot;samsung SM-G97…</td><td>&quot;Unknown&quot;</td><td>&quot;TX 10 - Navarr…</td><td>null</td><td>&quot;75148&quot;</td><td>2021-05-05 16:10:11</td><td>-96.012942</td><td>32.175355</td><td>&quot;com.zhiliaoapp…</td><td>&quot;Tik Tok&quot;</td><td>76852</td><td>2021-05-05 16:11:28.701</td><td>2021-05-05 16:10:11.849</td><td>2021-05-05 16:12:23.779</td><td>1.223888e6</td><td>2021-05-05 15:51:59.891</td><td>76852</td><td>2021-05-05 16:11:28.701</td><td>2021-05-05 16:10:11.849</td><td>null</td><td>&quot;4G/LTE&quot;</td><td>2021</td><td>5</td><td>5</td><td>11</td></tr><tr><td>&quot;2441948&quot;</td><td>40.0</td><td>&quot;FEMALE&quot;</td><td>&quot;White&quot;</td><td>&quot;0d41c0a0fa1df4…</td><td>&quot;samsung SM-G98…</td><td>&quot;AT&amp;T (US)&quot;</td><td>&quot;MO 15 - Stone&quot;</td><td>null</td><td>&quot;65737&quot;</td><td>2021-05-02 04:10:04</td><td>-93.339832</td><td>36.677331</td><td>&quot;com.zhiliaoapp…</td><td>&quot;Tik Tok&quot;</td><td>126623</td><td>2021-05-02 04:12:11.104</td><td>2021-05-02 04:10:04.481</td><td>2021-05-02 04:12:12.313</td><td>1.556198e6</td><td>2021-05-02 03:46:16.115</td><td>126623</td><td>2021-05-02 04:12:11.104</td><td>2021-05-02 04:10:04.481</td><td>&quot;At&amp;t&quot;</td><td>&quot;4G/LTE&quot;</td><td>2021</td><td>5</td><td>2</td><td>12</td></tr><tr><td>&quot;2441948&quot;</td><td>40.0</td><td>&quot;FEMALE&quot;</td><td>&quot;White&quot;</td><td>&quot;05cb93d7c0f13c…</td><td>&quot;samsung SM-G98…</td><td>&quot;AT&amp;T (US)&quot;</td><td>&quot;MO 15 - Stone&quot;</td><td>null</td><td>&quot;65737&quot;</td><td>2021-05-02 04:14:10</td><td>-93.339689</td><td>36.677062</td><td>&quot;com.zhiliaoapp…</td><td>&quot;Tik Tok&quot;</td><td>4934</td><td>2021-05-02 04:14:15.592</td><td>2021-05-02 04:14:10.658</td><td>2021-05-02 04:16:23.770</td><td>134901.0</td><td>2021-05-02 04:14:08.869</td><td>4934</td><td>2021-05-02 04:14:15.592</td><td>2021-05-02 04:14:10.658</td><td>null</td><td>&quot;4G/LTE&quot;</td><td>2021</td><td>5</td><td>2</td><td>13</td></tr><tr><td>&quot;2441948&quot;</td><td>40.0</td><td>&quot;FEMALE&quot;</td><td>&quot;White&quot;</td><td>&quot;0d41c0a0fa1df4…</td><td>&quot;samsung SM-G98…</td><td>&quot;AT&amp;T (US)&quot;</td><td>&quot;MO 15 - Stone&quot;</td><td>null</td><td>&quot;65737&quot;</td><td>2021-05-02 04:14:19</td><td>-93.339689</td><td>36.677062</td><td>&quot;com.zhiliaoapp…</td><td>&quot;Tik Tok&quot;</td><td>123445</td><td>2021-05-02 04:16:22.701</td><td>2021-05-02 04:14:19.256</td><td>2021-05-02 04:16:23.770</td><td>134901.0</td><td>2021-05-02 04:14:08.869</td><td>123445</td><td>2021-05-02 04:16:22.701</td><td>2021-05-02 04:14:19.256</td><td>null</td><td>&quot;4G/LTE&quot;</td><td>2021</td><td>5</td><td>2</td><td>14</td></tr><tr><td>&quot;2441948&quot;</td><td>40.0</td><td>&quot;FEMALE&quot;</td><td>&quot;White&quot;</td><td>&quot;8ea04c1a7c2599…</td><td>&quot;samsung SM-G98…</td><td>&quot;AT&amp;T (US)&quot;</td><td>&quot;MO 15 - Stone&quot;</td><td>null</td><td>&quot;65737&quot;</td><td>2021-05-02 18:02:00</td><td>-93.338734</td><td>36.670329</td><td>&quot;com.zhiliaoapp…</td><td>&quot;Tik Tok&quot;</td><td>709128</td><td>2021-05-02 18:13:49.874</td><td>2021-05-02 18:02:00.746</td><td>2021-05-02 18:13:51.281</td><td>1.273208e6</td><td>2021-05-02 17:52:38.073</td><td>709128</td><td>2021-05-02 18:13:49.874</td><td>2021-05-02 18:02:00.746</td><td>null</td><td>&quot;4G/LTE&quot;</td><td>2021</td><td>5</td><td>2</td><td>15</td></tr><tr><td>&quot;2441948&quot;</td><td>40.0</td><td>&quot;FEMALE&quot;</td><td>&quot;White&quot;</td><td>&quot;8b16bf56174f3b…</td><td>&quot;samsung SM-G98…</td><td>&quot;AT&amp;T (US)&quot;</td><td>&quot;Springfield MO…</td><td>null</td><td>&quot;65807&quot;</td><td>2021-05-04 13:12:23</td><td>-93.286604</td><td>37.150264</td><td>&quot;com.zhiliaoapp…</td><td>&quot;Tik Tok&quot;</td><td>11984</td><td>2021-05-04 13:12:35.074</td><td>2021-05-04 13:12:23.090</td><td>2021-05-04 13:25:54.297</td><td>2.498022e6</td><td>2021-05-04 12:44:16.275</td><td>11984</td><td>2021-05-04 13:12:35.074</td><td>2021-05-04 13:12:23.090</td><td>null</td><td>&quot;4G/LTE&quot;</td><td>2021</td><td>5</td><td>4</td><td>16</td></tr><tr><td>&quot;2441948&quot;</td><td>40.0</td><td>&quot;FEMALE&quot;</td><td>&quot;White&quot;</td><td>&quot;8b16bf56174f3b…</td><td>&quot;samsung SM-G98…</td><td>&quot;AT&amp;T (US)&quot;</td><td>&quot;Springfield MO…</td><td>null</td><td>&quot;65807&quot;</td><td>2021-05-04 13:34:11</td><td>-93.28654</td><td>37.150281</td><td>&quot;com.zhiliaoapp…</td><td>&quot;Tik Tok&quot;</td><td>23474</td><td>2021-05-04 13:34:34.750</td><td>2021-05-04 13:34:11.276</td><td>2021-05-04 13:43:29.269</td><td>878712.0</td><td>2021-05-04 13:28:50.557</td><td>23474</td><td>2021-05-04 13:34:34.750</td><td>2021-05-04 13:34:11.276</td><td>&quot;At&amp;t&quot;</td><td>&quot;4G/LTE&quot;</td><td>2021</td><td>5</td><td>4</td><td>17</td></tr><tr><td>&quot;2441948&quot;</td><td>40.0</td><td>&quot;FEMALE&quot;</td><td>&quot;White&quot;</td><td>&quot;8b16bf56174f3b…</td><td>&quot;samsung SM-G98…</td><td>&quot;AT&amp;T (US)&quot;</td><td>&quot;Springfield MO…</td><td>null</td><td>&quot;65807&quot;</td><td>2021-05-04 13:15:28</td><td>-93.286526</td><td>37.150308</td><td>&quot;com.zhiliaoapp…</td><td>&quot;Tik Tok&quot;</td><td>15741</td><td>2021-05-04 13:15:44.064</td><td>2021-05-04 13:15:28.323</td><td>2021-05-04 13:25:54.297</td><td>2.498022e6</td><td>2021-05-04 12:44:16.275</td><td>15741</td><td>2021-05-04 13:15:44.064</td><td>2021-05-04 13:15:28.323</td><td>null</td><td>&quot;4G/LTE&quot;</td><td>2021</td><td>5</td><td>4</td><td>18</td></tr><tr><td>&quot;2441948&quot;</td><td>40.0</td><td>&quot;FEMALE&quot;</td><td>&quot;White&quot;</td><td>&quot;8b16bf56174f3b…</td><td>&quot;samsung SM-G98…</td><td>&quot;AT&amp;T (US)&quot;</td><td>&quot;Springfield MO…</td><td>null</td><td>&quot;65807&quot;</td><td>2021-05-04 13:18:42</td><td>-93.286527</td><td>37.150297</td><td>&quot;com.zhiliaoapp…</td><td>&quot;Tik Tok&quot;</td><td>5696</td><td>2021-05-04 13:18:48.469</td><td>2021-05-04 13:18:42.773</td><td>2021-05-04 13:25:54.297</td><td>2.498022e6</td><td>2021-05-04 12:44:16.275</td><td>5696</td><td>2021-05-04 13:18:48.469</td><td>2021-05-04 13:18:42.773</td><td>null</td><td>&quot;4G/LTE&quot;</td><td>2021</td><td>5</td><td>4</td><td>19</td></tr></tbody></table></div>"
      ],
      "text/plain": [
       "shape: (20, 30)\n",
       "┌────────────┬──────┬────────┬───────────┬───┬──────┬───────┬─────┬───────────────────┐\n",
       "│ PANELISTID ┆ AGE  ┆ GENDER ┆ ETHNICITY ┆ … ┆ YEAR ┆ MONTH ┆ DAY ┆ __index_level_0__ │\n",
       "│ ---        ┆ ---  ┆ ---    ┆ ---       ┆   ┆ ---  ┆ ---   ┆ --- ┆ ---               │\n",
       "│ str        ┆ f64  ┆ str    ┆ str       ┆   ┆ i64  ┆ i64   ┆ i64 ┆ i64               │\n",
       "╞════════════╪══════╪════════╪═══════════╪═══╪══════╪═══════╪═════╪═══════════════════╡\n",
       "│ 2441985    ┆ 28.0 ┆ FEMALE ┆ White     ┆ … ┆ 2021 ┆ 5     ┆ 5   ┆ 0                 │\n",
       "│ 2441985    ┆ 28.0 ┆ FEMALE ┆ White     ┆ … ┆ 2021 ┆ 5     ┆ 5   ┆ 1                 │\n",
       "│ 2441985    ┆ 28.0 ┆ FEMALE ┆ White     ┆ … ┆ 2021 ┆ 5     ┆ 5   ┆ 2                 │\n",
       "│ 2441985    ┆ 28.0 ┆ FEMALE ┆ White     ┆ … ┆ 2021 ┆ 5     ┆ 5   ┆ 3                 │\n",
       "│ …          ┆ …    ┆ …      ┆ …         ┆ … ┆ …    ┆ …     ┆ …   ┆ …                 │\n",
       "│ 2441948    ┆ 40.0 ┆ FEMALE ┆ White     ┆ … ┆ 2021 ┆ 5     ┆ 4   ┆ 16                │\n",
       "│ 2441948    ┆ 40.0 ┆ FEMALE ┆ White     ┆ … ┆ 2021 ┆ 5     ┆ 4   ┆ 17                │\n",
       "│ 2441948    ┆ 40.0 ┆ FEMALE ┆ White     ┆ … ┆ 2021 ┆ 5     ┆ 4   ┆ 18                │\n",
       "│ 2441948    ┆ 40.0 ┆ FEMALE ┆ White     ┆ … ┆ 2021 ┆ 5     ┆ 4   ┆ 19                │\n",
       "└────────────┴──────┴────────┴───────────┴───┴──────┴───────┴─────┴───────────────────┘"
      ]
     },
     "execution_count": 37,
     "metadata": {},
     "output_type": "execute_result"
    }
   ],
   "source": [
    "df.head(20)"
   ]
  },
  {
   "cell_type": "code",
   "execution_count": 33,
   "id": "0991f1e1-782f-4652-bb42-9bba1a55b20e",
   "metadata": {},
   "outputs": [
    {
     "data": {
      "text/plain": [
       "polars.dataframe.frame.DataFrame"
      ]
     },
     "execution_count": 33,
     "metadata": {},
     "output_type": "execute_result"
    }
   ],
   "source": [
    "type(df)"
   ]
  },
  {
   "cell_type": "code",
   "execution_count": 38,
   "id": "0ee9c713-e455-4baf-8665-b857ed625fe9",
   "metadata": {},
   "outputs": [],
   "source": [
    "data = pd.read_parquet('usage_analytics.parquet')"
   ]
  },
  {
   "cell_type": "code",
   "execution_count": 40,
   "id": "726a49a0-b6ec-4bb1-8568-0fb0cc756972",
   "metadata": {},
   "outputs": [
    {
     "data": {
      "text/plain": [
       "Index(['PANELISTID', 'AGE', 'GENDER', 'ETHNICITY', 'FACTID', 'DEVICEMAKEMODEL',\n",
       "       'OPERATOR', 'STARTMARKET', 'STARTINBUILDING', 'STARTZIPCODE',\n",
       "       'STARTTIMESTAMP', 'STARTLONGITUDE', 'STARTLATITUDE', 'APPNAME',\n",
       "       'APP_TITLE', 'FOREGROUNDDURATION', 'FOREGROUNDENDTIME',\n",
       "       'FOREGROUNDSTARTTIME', 'SCREENOFFTIME', 'SCREENONDURATION',\n",
       "       'SCREENONTIME', 'VISIBLEDURATION', 'VISIBLEENDTIME', 'VISIBLESTARTTIME',\n",
       "       'ISP', 'START_DATACONNTECH', 'YEAR', 'MONTH', 'DAY'],\n",
       "      dtype='object')"
      ]
     },
     "execution_count": 40,
     "metadata": {},
     "output_type": "execute_result"
    }
   ],
   "source": [
    "data.head()\n",
    "data.columns"
   ]
  },
  {
   "cell_type": "code",
   "execution_count": 55,
   "id": "40e53b52-706e-4d8e-8670-1cd503451878",
   "metadata": {},
   "outputs": [],
   "source": [
    "# Convert to GeoDataFrame\n",
    "gdf = gpd.GeoDataFrame(data, geometry=gpd.points_from_xy(data.STARTLONGITUDE, data.STARTLATITUDE))\n",
    "\n",
    "# Convert GeoDataFrame to ColumnDataSource for Bokeh\n",
    "source = ColumnDataSource(data={\n",
    "    'x': gdf['STARTLONGITUDE'],\n",
    "    'y': gdf['STARTLATITUDE'],\n",
    "    'duration': gdf['VISIBLEDURATION']\n",
    "})\n",
    "\n",
    "# Bokeh plot\n",
    "output_file(\"bokeh_map.html\")\n",
    "\n",
    "mapper = linear_cmap(field_name='duration', palette=\"Viridis256\", low=min(gdf['VISIBLEDURATION']), high=max(gdf['VISIBLEDURATION']))\n",
    "\n",
    "p = figure(width=800, height=600, title=\"User Time Spent on Streaming Service by Location\",x_range=(-180, 180), y_range=(-90, 90))\n",
    "p.circle(x='x', y='y', size='duration', source=source, color=mapper, legend_field='duration', alpha=0.6)\n",
    "\n",
    "color_bar = ColorBar(color_mapper=mapper['transform'], width=8, location=(0,0))\n",
    "p.add_layout(color_bar, 'right')\n",
    "\n",
    "show(p)"
   ]
  },
  {
   "cell_type": "code",
   "execution_count": 47,
   "id": "c0ad02b7-1cd9-44e7-ad34-4e24a727455e",
   "metadata": {},
   "outputs": [
    {
     "data": {
      "text/plain": [
       "Index(['PANELISTID', 'AGE', 'GENDER', 'ETHNICITY', 'FACTID', 'DEVICEMAKEMODEL',\n",
       "       'OPERATOR', 'STARTMARKET', 'STARTINBUILDING', 'STARTZIPCODE',\n",
       "       'STARTTIMESTAMP', 'STARTLONGITUDE', 'STARTLATITUDE', 'APPNAME',\n",
       "       'APP_TITLE', 'FOREGROUNDDURATION', 'FOREGROUNDENDTIME',\n",
       "       'FOREGROUNDSTARTTIME', 'SCREENOFFTIME', 'SCREENONDURATION',\n",
       "       'SCREENONTIME', 'VISIBLEDURATION', 'VISIBLEENDTIME', 'VISIBLESTARTTIME',\n",
       "       'ISP', 'START_DATACONNTECH', 'YEAR', 'MONTH', 'DAY', 'geometry'],\n",
       "      dtype='object')"
      ]
     },
     "execution_count": 47,
     "metadata": {},
     "output_type": "execute_result"
    }
   ],
   "source": [
    "gdf.columns"
   ]
  },
  {
   "cell_type": "code",
   "execution_count": 57,
   "id": "9d668cf5-197a-4013-adf8-3b2647116547",
   "metadata": {},
   "outputs": [
    {
     "data": {
      "text/html": [
       "<div style=\"display: table;\"><div style=\"display: table-row;\"><div style=\"display: table-cell;\"><b title=\"bokeh.models.sources.ColumnDataSource\">ColumnDataSource</b>(</div><div style=\"display: table-cell;\">id&nbsp;=&nbsp;'p1452', <span id=\"p1505\" style=\"cursor: pointer;\">&hellip;)</span></div></div><div class=\"p1504\" style=\"display: none;\"><div style=\"display: table-cell;\"></div><div style=\"display: table-cell;\">data&nbsp;=&nbsp;{'x': 0      -96.012942\n",
       "1      -96.012942\n",
       "2      -96.012942\n",
       "3      -96.012942\n",
       "4      -96.012942\n",
       "          ...    \n",
       "6250   -87.868911\n",
       "6251   -87.868911\n",
       "6252   -87.886657\n",
       "6253   -87.886657\n",
       "6254   -87.886657\n",
       "Name: STARTLONGITUDE, Length: 1066255, dtype: float64, 'y': 0       32.175355\n",
       "1       32.175355\n",
       "2       32.175355\n",
       "3       32.175355\n",
       "4       32.175355\n",
       "          ...    \n",
       "6250    30.536496\n",
       "6251    30.536496\n",
       "6252    30.513307\n",
       "6253    30.513307\n",
       "6254    30.513307\n",
       "Name: STARTLATITUDE, Length: 1066255, dtype: float64, 'duration': 0        2344\n",
       "1        4888\n",
       "2       71556\n",
       "3        6802\n",
       "4        9116\n",
       "        ...  \n",
       "6250     2345\n",
       "6251     8310\n",
       "6252     2287\n",
       "6253    53989\n",
       "6254     1657\n",
       "Name: VISIBLEDURATION, Length: 1066255, dtype: int64},</div></div><div class=\"p1504\" style=\"display: none;\"><div style=\"display: table-cell;\"></div><div style=\"display: table-cell;\">js_event_callbacks&nbsp;=&nbsp;{},</div></div><div class=\"p1504\" style=\"display: none;\"><div style=\"display: table-cell;\"></div><div style=\"display: table-cell;\">js_property_callbacks&nbsp;=&nbsp;{},</div></div><div class=\"p1504\" style=\"display: none;\"><div style=\"display: table-cell;\"></div><div style=\"display: table-cell;\">name&nbsp;=&nbsp;None,</div></div><div class=\"p1504\" style=\"display: none;\"><div style=\"display: table-cell;\"></div><div style=\"display: table-cell;\">selected&nbsp;=&nbsp;Selection(id='p1453', ...),</div></div><div class=\"p1504\" style=\"display: none;\"><div style=\"display: table-cell;\"></div><div style=\"display: table-cell;\">selection_policy&nbsp;=&nbsp;UnionRenderers(id='p1454', ...),</div></div><div class=\"p1504\" style=\"display: none;\"><div style=\"display: table-cell;\"></div><div style=\"display: table-cell;\">subscribed_events&nbsp;=&nbsp;PropertyValueSet(),</div></div><div class=\"p1504\" style=\"display: none;\"><div style=\"display: table-cell;\"></div><div style=\"display: table-cell;\">syncable&nbsp;=&nbsp;True,</div></div><div class=\"p1504\" style=\"display: none;\"><div style=\"display: table-cell;\"></div><div style=\"display: table-cell;\">tags&nbsp;=&nbsp;[])</div></div></div>\n",
       "<script>\n",
       "(function() {\n",
       "  let expanded = false;\n",
       "  const ellipsis = document.getElementById(\"p1505\");\n",
       "  ellipsis.addEventListener(\"click\", function() {\n",
       "    const rows = document.getElementsByClassName(\"p1504\");\n",
       "    for (let i = 0; i < rows.length; i++) {\n",
       "      const el = rows[i];\n",
       "      el.style.display = expanded ? \"none\" : \"table-row\";\n",
       "    }\n",
       "    ellipsis.innerHTML = expanded ? \"&hellip;)\" : \"&lsaquo;&lsaquo;&lsaquo;\";\n",
       "    expanded = !expanded;\n",
       "  });\n",
       "})();\n",
       "</script>\n"
      ],
      "text/plain": [
       "ColumnDataSource(id='p1452', ...)"
      ]
     },
     "execution_count": 57,
     "metadata": {},
     "output_type": "execute_result"
    }
   ],
   "source": [
    "source"
   ]
  },
  {
   "cell_type": "code",
   "execution_count": 58,
   "id": "4593f391-fe50-4566-aa5a-2f51da6f420e",
   "metadata": {},
   "outputs": [
    {
     "data": {
      "text/plain": [
       "0       32.175355\n",
       "1       32.175355\n",
       "2       32.175355\n",
       "3       32.175355\n",
       "4       32.175355\n",
       "          ...    \n",
       "6250    30.536496\n",
       "6251    30.536496\n",
       "6252    30.513307\n",
       "6253    30.513307\n",
       "6254    30.513307\n",
       "Name: STARTLATITUDE, Length: 1066255, dtype: float64"
      ]
     },
     "execution_count": 58,
     "metadata": {},
     "output_type": "execute_result"
    }
   ],
   "source": [
    "gdf['STARTLATITUDE']"
   ]
  },
  {
   "cell_type": "code",
   "execution_count": null,
   "id": "9fab0df4-3637-4f6d-aba5-139ced5f4c12",
   "metadata": {},
   "outputs": [],
   "source": []
  }
 ],
 "metadata": {
  "kernelspec": {
   "display_name": "Python 3 (ipykernel)",
   "language": "python",
   "name": "python3"
  },
  "language_info": {
   "codemirror_mode": {
    "name": "ipython",
    "version": 3
   },
   "file_extension": ".py",
   "mimetype": "text/x-python",
   "name": "python",
   "nbconvert_exporter": "python",
   "pygments_lexer": "ipython3",
   "version": "3.10.8"
  }
 },
 "nbformat": 4,
 "nbformat_minor": 5
}
