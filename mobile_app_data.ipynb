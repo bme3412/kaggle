{
 "cells": [
  {
   "cell_type": "code",
   "execution_count": 1,
   "id": "d9531655-ca1b-4d7d-bf74-c40e92959982",
   "metadata": {},
   "outputs": [],
   "source": [
    "import pandas as pd\n",
    "import polars as pl"
   ]
  },
  {
   "cell_type": "code",
   "execution_count": 3,
   "id": "ccf1360c-ba6b-461f-8cce-89c8e981ea63",
   "metadata": {},
   "outputs": [],
   "source": [
    "q = pl.scan_parquet(\"usage_analytics.parquet\")\n",
    "df = q.collect()"
   ]
  },
  {
   "cell_type": "code",
   "execution_count": 4,
   "id": "60f7235e-b4b9-42ae-906e-80c3cb9f7b33",
   "metadata": {},
   "outputs": [
    {
     "data": {
      "text/plain": [
       "1066255"
      ]
     },
     "execution_count": 4,
     "metadata": {},
     "output_type": "execute_result"
    }
   ],
   "source": [
    "len(df)"
   ]
  },
  {
   "cell_type": "code",
   "execution_count": 5,
   "id": "a32403ce-b5da-40b6-8070-954d315d2651",
   "metadata": {},
   "outputs": [
    {
     "data": {
      "text/plain": [
       "['PANELISTID',\n",
       " 'AGE',\n",
       " 'GENDER',\n",
       " 'ETHNICITY',\n",
       " 'FACTID',\n",
       " 'DEVICEMAKEMODEL',\n",
       " 'OPERATOR',\n",
       " 'STARTMARKET',\n",
       " 'STARTINBUILDING',\n",
       " 'STARTZIPCODE',\n",
       " 'STARTTIMESTAMP',\n",
       " 'STARTLONGITUDE',\n",
       " 'STARTLATITUDE',\n",
       " 'APPNAME',\n",
       " 'APP_TITLE',\n",
       " 'FOREGROUNDDURATION',\n",
       " 'FOREGROUNDENDTIME',\n",
       " 'FOREGROUNDSTARTTIME',\n",
       " 'SCREENOFFTIME',\n",
       " 'SCREENONDURATION',\n",
       " 'SCREENONTIME',\n",
       " 'VISIBLEDURATION',\n",
       " 'VISIBLEENDTIME',\n",
       " 'VISIBLESTARTTIME',\n",
       " 'ISP',\n",
       " 'START_DATACONNTECH',\n",
       " 'YEAR',\n",
       " 'MONTH',\n",
       " 'DAY',\n",
       " '__index_level_0__']"
      ]
     },
     "execution_count": 5,
     "metadata": {},
     "output_type": "execute_result"
    }
   ],
   "source": [
    "df.columns"
   ]
  },
  {
   "cell_type": "code",
   "execution_count": 8,
   "id": "9c044def-204b-4919-9e33-18474a61bef3",
   "metadata": {},
   "outputs": [
    {
     "data": {
      "text/html": [
       "<div><style>\n",
       ".dataframe > thead > tr > th,\n",
       ".dataframe > tbody > tr > td {\n",
       "  text-align: right;\n",
       "  white-space: pre-wrap;\n",
       "}\n",
       "</style>\n",
       "<small>shape: (5, 2)</small><table border=\"1\" class=\"dataframe\"><thead><tr><th>APP_TITLE</th><th>counts</th></tr><tr><td>str</td><td>u32</td></tr></thead><tbody><tr><td>&quot;ESPN&quot;</td><td>6005</td></tr><tr><td>&quot;Chime Banking&quot;</td><td>10715</td></tr><tr><td>&quot;Disney+&quot;</td><td>4472</td></tr><tr><td>&quot;Yahoo Sports&quot;</td><td>2572</td></tr><tr><td>&quot;Among Us&quot;</td><td>417</td></tr></tbody></table></div>"
      ],
      "text/plain": [
       "shape: (5, 2)\n",
       "┌───────────────┬────────┐\n",
       "│ APP_TITLE     ┆ counts │\n",
       "│ ---           ┆ ---    │\n",
       "│ str           ┆ u32    │\n",
       "╞═══════════════╪════════╡\n",
       "│ ESPN          ┆ 6005   │\n",
       "│ Chime Banking ┆ 10715  │\n",
       "│ Disney+       ┆ 4472   │\n",
       "│ Yahoo Sports  ┆ 2572   │\n",
       "│ Among Us      ┆ 417    │\n",
       "└───────────────┴────────┘"
      ]
     },
     "execution_count": 8,
     "metadata": {},
     "output_type": "execute_result"
    }
   ],
   "source": [
    "df['APP_TITLE'].value_counts().head()"
   ]
  },
  {
   "cell_type": "code",
   "execution_count": 11,
   "id": "55c99ec3-d606-47a3-8878-f147e1bc33a9",
   "metadata": {},
   "outputs": [
    {
     "data": {
      "text/html": [
       "<div><style>\n",
       ".dataframe > thead > tr > th,\n",
       ".dataframe > tbody > tr > td {\n",
       "  text-align: right;\n",
       "  white-space: pre-wrap;\n",
       "}\n",
       "</style>\n",
       "<small>shape: (7, 2)</small><table border=\"1\" class=\"dataframe\"><thead><tr><th>DAY</th><th>counts</th></tr><tr><td>i64</td><td>u32</td></tr></thead><tbody><tr><td>2</td><td>151013</td></tr><tr><td>6</td><td>159630</td></tr><tr><td>5</td><td>161985</td></tr><tr><td>8</td><td>141993</td></tr><tr><td>4</td><td>148897</td></tr><tr><td>7</td><td>153123</td></tr><tr><td>3</td><td>149614</td></tr></tbody></table></div>"
      ],
      "text/plain": [
       "shape: (7, 2)\n",
       "┌─────┬────────┐\n",
       "│ DAY ┆ counts │\n",
       "│ --- ┆ ---    │\n",
       "│ i64 ┆ u32    │\n",
       "╞═════╪════════╡\n",
       "│ 2   ┆ 151013 │\n",
       "│ 6   ┆ 159630 │\n",
       "│ 5   ┆ 161985 │\n",
       "│ 8   ┆ 141993 │\n",
       "│ 4   ┆ 148897 │\n",
       "│ 7   ┆ 153123 │\n",
       "│ 3   ┆ 149614 │\n",
       "└─────┴────────┘"
      ]
     },
     "execution_count": 11,
     "metadata": {},
     "output_type": "execute_result"
    }
   ],
   "source": [
    "df['DAY'].value_counts()"
   ]
  },
  {
   "cell_type": "code",
   "execution_count": 13,
   "id": "d7f0a7b9-b96e-4c2a-bbd0-66d75aa4f0d3",
   "metadata": {},
   "outputs": [],
   "source": [
    "\n",
    "\n",
    "df_dis = df.filter(pl.col(\"APP_TITLE\") == 'Disney+')"
   ]
  },
  {
   "cell_type": "code",
   "execution_count": 15,
   "id": "e34f3061-6514-4ffc-b6b0-e48b12d79023",
   "metadata": {},
   "outputs": [
    {
     "data": {
      "text/plain": [
       "4472"
      ]
     },
     "execution_count": 15,
     "metadata": {},
     "output_type": "execute_result"
    }
   ],
   "source": [
    "len(df_dis)"
   ]
  },
  {
   "cell_type": "code",
   "execution_count": 16,
   "id": "a553eebe-cb48-487d-842f-0a2256b98d7e",
   "metadata": {},
   "outputs": [
    {
     "data": {
      "text/html": [
       "<div><style>\n",
       ".dataframe > thead > tr > th,\n",
       ".dataframe > tbody > tr > td {\n",
       "  text-align: right;\n",
       "  white-space: pre-wrap;\n",
       "}\n",
       "</style>\n",
       "<small>shape: (10, 30)</small><table border=\"1\" class=\"dataframe\"><thead><tr><th>PANELISTID</th><th>AGE</th><th>GENDER</th><th>ETHNICITY</th><th>FACTID</th><th>DEVICEMAKEMODEL</th><th>OPERATOR</th><th>STARTMARKET</th><th>STARTINBUILDING</th><th>STARTZIPCODE</th><th>STARTTIMESTAMP</th><th>STARTLONGITUDE</th><th>STARTLATITUDE</th><th>APPNAME</th><th>APP_TITLE</th><th>FOREGROUNDDURATION</th><th>FOREGROUNDENDTIME</th><th>FOREGROUNDSTARTTIME</th><th>SCREENOFFTIME</th><th>SCREENONDURATION</th><th>SCREENONTIME</th><th>VISIBLEDURATION</th><th>VISIBLEENDTIME</th><th>VISIBLESTARTTIME</th><th>ISP</th><th>START_DATACONNTECH</th><th>YEAR</th><th>MONTH</th><th>DAY</th><th>__index_level_0__</th></tr><tr><td>str</td><td>f64</td><td>str</td><td>str</td><td>str</td><td>str</td><td>str</td><td>str</td><td>str</td><td>str</td><td>datetime[ns]</td><td>f64</td><td>f64</td><td>str</td><td>str</td><td>i64</td><td>datetime[ns]</td><td>datetime[ns]</td><td>datetime[ns]</td><td>f64</td><td>datetime[ns]</td><td>i64</td><td>datetime[ns]</td><td>datetime[ns]</td><td>str</td><td>str</td><td>i64</td><td>i64</td><td>i64</td><td>i64</td></tr></thead><tbody><tr><td>&quot;2511158&quot;</td><td>28.0</td><td>&quot;FEMALE&quot;</td><td>&quot;White&quot;</td><td>&quot;bf58211a5356b0…</td><td>&quot;samsung SM-G77…</td><td>&quot;Unknown&quot;</td><td>&quot;Bakersfield&quot;</td><td>null</td><td>&quot;93536&quot;</td><td>2021-05-02 03:56:38</td><td>-118.185652</td><td>34.709053</td><td>&quot;com.disney.dis…</td><td>&quot;Disney+&quot;</td><td>28030</td><td>2021-05-02 03:57:06.239</td><td>2021-05-02 03:56:38.209</td><td>2021-05-02 04:04:04.790</td><td>531442.0</td><td>2021-05-02 03:55:13.348</td><td>28030</td><td>2021-05-02 03:57:06.239</td><td>2021-05-02 03:56:38.209</td><td>&quot;Verizon&quot;</td><td>&quot;4G/LTE&quot;</td><td>2021</td><td>5</td><td>2</td><td>2783</td></tr><tr><td>&quot;2511239&quot;</td><td>31.0</td><td>&quot;FEMALE&quot;</td><td>&quot;White&quot;</td><td>&quot;b34ddf7b1276c5…</td><td>&quot;samsung SM-N97…</td><td>&quot;Unknown&quot;</td><td>&quot;Greenville&quot;</td><td>null</td><td>&quot;29385&quot;</td><td>2021-05-07 01:15:57</td><td>-82.141004</td><td>34.982729</td><td>&quot;com.disney.dis…</td><td>&quot;Disney+&quot;</td><td>1385804</td><td>2021-05-07 01:39:03.428</td><td>2021-05-07 01:15:57.624</td><td>2021-05-07 01:39:04.302</td><td>1.41486e6</td><td>2021-05-07 01:15:29.442</td><td>1385804</td><td>2021-05-07 01:39:03.428</td><td>2021-05-07 01:15:57.624</td><td>&quot;Verizon&quot;</td><td>&quot;4G/LTE&quot;</td><td>2021</td><td>5</td><td>7</td><td>2797</td></tr><tr><td>&quot;2511239&quot;</td><td>31.0</td><td>&quot;FEMALE&quot;</td><td>&quot;White&quot;</td><td>&quot;73c7a8d78b56d6…</td><td>&quot;samsung SM-N97…</td><td>&quot;Unknown&quot;</td><td>&quot;Greenville&quot;</td><td>null</td><td>&quot;29365&quot;</td><td>2021-05-07 10:00:49</td><td>-82.141058</td><td>34.982742</td><td>&quot;com.disney.dis…</td><td>&quot;Disney+&quot;</td><td>1468</td><td>2021-05-07 10:00:51.285</td><td>2021-05-07 10:00:49.817</td><td>2021-05-07 10:02:00.419</td><td>72402.0</td><td>2021-05-07 10:00:48.017</td><td>1468</td><td>2021-05-07 10:00:51.285</td><td>2021-05-07 10:00:49.817</td><td>&quot;Verizon&quot;</td><td>&quot;4G/LTE&quot;</td><td>2021</td><td>5</td><td>7</td><td>2798</td></tr><tr><td>&quot;2511239&quot;</td><td>31.0</td><td>&quot;FEMALE&quot;</td><td>&quot;White&quot;</td><td>&quot;7712899bcdee12…</td><td>&quot;samsung SM-N97…</td><td>&quot;Unknown&quot;</td><td>&quot;Greenville&quot;</td><td>null</td><td>&quot;29385&quot;</td><td>2021-05-07 01:39:06</td><td>-82.141059</td><td>34.982752</td><td>&quot;com.disney.dis…</td><td>&quot;Disney+&quot;</td><td>139105</td><td>2021-05-07 01:41:24.931</td><td>2021-05-07 01:39:05.826</td><td>2021-05-07 01:41:25.898</td><td>139525.0</td><td>2021-05-07 01:39:06.373</td><td>138558</td><td>2021-05-07 01:41:24.931</td><td>2021-05-07 01:39:06.373</td><td>&quot;Verizon&quot;</td><td>&quot;4G/LTE&quot;</td><td>2021</td><td>5</td><td>7</td><td>2799</td></tr><tr><td>&quot;2511239&quot;</td><td>31.0</td><td>&quot;FEMALE&quot;</td><td>&quot;White&quot;</td><td>&quot;b34ddf7b1276c5…</td><td>&quot;samsung SM-N97…</td><td>&quot;Unknown&quot;</td><td>&quot;Greenville&quot;</td><td>null</td><td>&quot;29385&quot;</td><td>2021-05-07 01:15:37</td><td>-82.141004</td><td>34.982729</td><td>&quot;com.disney.dis…</td><td>&quot;Disney+&quot;</td><td>20130</td><td>2021-05-07 01:15:57.616</td><td>2021-05-07 01:15:37.486</td><td>2021-05-07 01:39:04.302</td><td>1.41486e6</td><td>2021-05-07 01:15:29.442</td><td>20130</td><td>2021-05-07 01:15:57.616</td><td>2021-05-07 01:15:37.486</td><td>&quot;Verizon&quot;</td><td>&quot;4G/LTE&quot;</td><td>2021</td><td>5</td><td>7</td><td>2800</td></tr><tr><td>&quot;2494020&quot;</td><td>37.0</td><td>&quot;FEMALE&quot;</td><td>&quot;White&quot;</td><td>&quot;6c5b59567c94fd…</td><td>&quot;Google Pixel 4…</td><td>&quot;T-Mobile (US)&quot;</td><td>&quot;Salt Lake City…</td><td>null</td><td>&quot;84094&quot;</td><td>2021-05-02 03:08:09</td><td>-111.89596</td><td>40.602138</td><td>&quot;com.disney.dis…</td><td>&quot;Disney+&quot;</td><td>8889</td><td>2021-05-02 03:08:18.513</td><td>2021-05-02 03:08:09.624</td><td>2021-05-02 03:29:50.774</td><td>1.306384e6</td><td>2021-05-02 03:08:04.390</td><td>8889</td><td>2021-05-02 03:08:18.513</td><td>2021-05-02 03:08:09.624</td><td>null</td><td>&quot;4G/LTE&quot;</td><td>2021</td><td>5</td><td>2</td><td>5722</td></tr><tr><td>&quot;2493868&quot;</td><td>21.0</td><td>&quot;MALE&quot;</td><td>&quot;Mixed racial b…</td><td>&quot;e50763754ada42…</td><td>&quot;samsung SM-N96…</td><td>&quot;T-Mobile (US)&quot;</td><td>&quot;Chicago&quot;</td><td>&quot;1&quot;</td><td>&quot;60613&quot;</td><td>2021-05-08 04:26:56</td><td>-87.648112</td><td>41.958655</td><td>&quot;com.disney.dis…</td><td>&quot;Disney+&quot;</td><td>88784</td><td>2021-05-08 04:28:24.786</td><td>2021-05-08 04:26:56.002</td><td>2021-05-08 04:28:25.962</td><td>106944.0</td><td>2021-05-08 04:26:39.018</td><td>88784</td><td>2021-05-08 04:28:24.786</td><td>2021-05-08 04:26:56.002</td><td>&quot;T-Mobile&quot;</td><td>&quot;4G/LTE&quot;</td><td>2021</td><td>5</td><td>8</td><td>6138</td></tr><tr><td>&quot;2493868&quot;</td><td>21.0</td><td>&quot;MALE&quot;</td><td>&quot;Mixed racial b…</td><td>&quot;cf94a8ff6f03d5…</td><td>&quot;samsung SM-N96…</td><td>&quot;T-Mobile (US)&quot;</td><td>&quot;Chicago&quot;</td><td>null</td><td>&quot;60613&quot;</td><td>2021-05-08 04:16:43</td><td>-87.648066</td><td>41.958537</td><td>&quot;com.disney.dis…</td><td>&quot;Disney+&quot;</td><td>230448</td><td>2021-05-08 04:20:33.550</td><td>2021-05-08 04:16:43.102</td><td>2021-05-08 04:20:34.801</td><td>232856.0</td><td>2021-05-08 04:16:41.945</td><td>230448</td><td>2021-05-08 04:20:33.550</td><td>2021-05-08 04:16:43.102</td><td>&quot;T-Mobile&quot;</td><td>&quot;4G/LTE&quot;</td><td>2021</td><td>5</td><td>8</td><td>6139</td></tr><tr><td>&quot;2493868&quot;</td><td>21.0</td><td>&quot;MALE&quot;</td><td>&quot;Mixed racial b…</td><td>&quot;e50763754ada42…</td><td>&quot;samsung SM-N96…</td><td>&quot;T-Mobile (US)&quot;</td><td>&quot;Chicago&quot;</td><td>null</td><td>&quot;60613&quot;</td><td>2021-05-08 04:25:51</td><td>-87.648112</td><td>41.958655</td><td>&quot;com.disney.dis…</td><td>&quot;Disney+&quot;</td><td>11007</td><td>2021-05-08 04:26:02.684</td><td>2021-05-08 04:25:51.677</td><td>2021-05-08 04:26:03.438</td><td>82077.0</td><td>2021-05-08 04:24:41.361</td><td>11007</td><td>2021-05-08 04:26:02.684</td><td>2021-05-08 04:25:51.677</td><td>&quot;T-Mobile&quot;</td><td>&quot;4G/LTE&quot;</td><td>2021</td><td>5</td><td>8</td><td>6140</td></tr><tr><td>&quot;2493868&quot;</td><td>21.0</td><td>&quot;MALE&quot;</td><td>&quot;Mixed racial b…</td><td>&quot;5e13a384026ece…</td><td>&quot;samsung SM-N96…</td><td>&quot;T-Mobile (US)&quot;</td><td>&quot;Chicago&quot;</td><td>null</td><td>&quot;60613&quot;</td><td>2021-05-08 04:10:08</td><td>-87.648092</td><td>41.958546</td><td>&quot;com.disney.dis…</td><td>&quot;Disney+&quot;</td><td>391270</td><td>2021-05-08 04:16:40.257</td><td>2021-05-08 04:10:08.987</td><td>2021-05-08 04:16:41.405</td><td>392924.0</td><td>2021-05-08 04:10:08.481</td><td>391270</td><td>2021-05-08 04:16:40.257</td><td>2021-05-08 04:10:08.987</td><td>&quot;T-Mobile&quot;</td><td>&quot;4G/LTE&quot;</td><td>2021</td><td>5</td><td>8</td><td>6146</td></tr></tbody></table></div>"
      ],
      "text/plain": [
       "shape: (10, 30)\n",
       "┌────────────┬──────┬────────┬──────────────┬───┬──────┬───────┬─────┬───────────────────┐\n",
       "│ PANELISTID ┆ AGE  ┆ GENDER ┆ ETHNICITY    ┆ … ┆ YEAR ┆ MONTH ┆ DAY ┆ __index_level_0__ │\n",
       "│ ---        ┆ ---  ┆ ---    ┆ ---          ┆   ┆ ---  ┆ ---   ┆ --- ┆ ---               │\n",
       "│ str        ┆ f64  ┆ str    ┆ str          ┆   ┆ i64  ┆ i64   ┆ i64 ┆ i64               │\n",
       "╞════════════╪══════╪════════╪══════════════╪═══╪══════╪═══════╪═════╪═══════════════════╡\n",
       "│ 2511158    ┆ 28.0 ┆ FEMALE ┆ White        ┆ … ┆ 2021 ┆ 5     ┆ 2   ┆ 2783              │\n",
       "│ 2511239    ┆ 31.0 ┆ FEMALE ┆ White        ┆ … ┆ 2021 ┆ 5     ┆ 7   ┆ 2797              │\n",
       "│ 2511239    ┆ 31.0 ┆ FEMALE ┆ White        ┆ … ┆ 2021 ┆ 5     ┆ 7   ┆ 2798              │\n",
       "│ 2511239    ┆ 31.0 ┆ FEMALE ┆ White        ┆ … ┆ 2021 ┆ 5     ┆ 7   ┆ 2799              │\n",
       "│ …          ┆ …    ┆ …      ┆ …            ┆ … ┆ …    ┆ …     ┆ …   ┆ …                 │\n",
       "│ 2493868    ┆ 21.0 ┆ MALE   ┆ Mixed racial ┆ … ┆ 2021 ┆ 5     ┆ 8   ┆ 6138              │\n",
       "│            ┆      ┆        ┆ background   ┆   ┆      ┆       ┆     ┆                   │\n",
       "│ 2493868    ┆ 21.0 ┆ MALE   ┆ Mixed racial ┆ … ┆ 2021 ┆ 5     ┆ 8   ┆ 6139              │\n",
       "│            ┆      ┆        ┆ background   ┆   ┆      ┆       ┆     ┆                   │\n",
       "│ 2493868    ┆ 21.0 ┆ MALE   ┆ Mixed racial ┆ … ┆ 2021 ┆ 5     ┆ 8   ┆ 6140              │\n",
       "│            ┆      ┆        ┆ background   ┆   ┆      ┆       ┆     ┆                   │\n",
       "│ 2493868    ┆ 21.0 ┆ MALE   ┆ Mixed racial ┆ … ┆ 2021 ┆ 5     ┆ 8   ┆ 6146              │\n",
       "│            ┆      ┆        ┆ background   ┆   ┆      ┆       ┆     ┆                   │\n",
       "└────────────┴──────┴────────┴──────────────┴───┴──────┴───────┴─────┴───────────────────┘"
      ]
     },
     "execution_count": 16,
     "metadata": {},
     "output_type": "execute_result"
    }
   ],
   "source": [
    "df_dis.head(10)"
   ]
  },
  {
   "cell_type": "code",
   "execution_count": 17,
   "id": "4a092849-aa12-484f-a7ca-32b667c6ff2c",
   "metadata": {},
   "outputs": [
    {
     "data": {
      "text/html": [
       "<div><style>\n",
       ".dataframe > thead > tr > th,\n",
       ".dataframe > tbody > tr > td {\n",
       "  text-align: right;\n",
       "  white-space: pre-wrap;\n",
       "}\n",
       "</style>\n",
       "<small>shape: (257, 2)</small><table border=\"1\" class=\"dataframe\"><thead><tr><th>STARTMARKET</th><th>counts</th></tr><tr><td>str</td><td>u32</td></tr></thead><tbody><tr><td>&quot;Hartford&quot;</td><td>7</td></tr><tr><td>&quot;KY 6 - Madison…</td><td>3</td></tr><tr><td>&quot;WA 2 - Okanoga…</td><td>1</td></tr><tr><td>&quot;Madison&quot;</td><td>11</td></tr><tr><td>&quot;New York&quot;</td><td>126</td></tr><tr><td>&quot;Portland OR&quot;</td><td>67</td></tr><tr><td>&quot;Dothan&quot;</td><td>6</td></tr><tr><td>&quot;Las Vegas&quot;</td><td>122</td></tr><tr><td>&quot;OK 3 - Grant&quot;</td><td>2</td></tr><tr><td>&quot;FL 6 - Dixie&quot;</td><td>7</td></tr><tr><td>&quot;Binghamton&quot;</td><td>31</td></tr><tr><td>&quot;CO 2 - Logan&quot;</td><td>5</td></tr><tr><td>&hellip;</td><td>&hellip;</td></tr><tr><td>&quot;Augusta&quot;</td><td>2</td></tr><tr><td>&quot;WI 7 - Wood&quot;</td><td>17</td></tr><tr><td>&quot;Pueblo&quot;</td><td>61</td></tr><tr><td>&quot;Decatur&quot;</td><td>1</td></tr><tr><td>&quot;Charlotte&quot;</td><td>5</td></tr><tr><td>&quot;UT 4 - Beaver&quot;</td><td>10</td></tr><tr><td>&quot;Indianapolis&quot;</td><td>29</td></tr><tr><td>&quot;Hamilton&quot;</td><td>5</td></tr><tr><td>&quot;New Orleans&quot;</td><td>1</td></tr><tr><td>&quot;AZ 2 - Coconin…</td><td>9</td></tr><tr><td>&quot;Cleveland&quot;</td><td>10</td></tr><tr><td>&quot;Bellingham&quot;</td><td>9</td></tr></tbody></table></div>"
      ],
      "text/plain": [
       "shape: (257, 2)\n",
       "┌─────────────────┬────────┐\n",
       "│ STARTMARKET     ┆ counts │\n",
       "│ ---             ┆ ---    │\n",
       "│ str             ┆ u32    │\n",
       "╞═════════════════╪════════╡\n",
       "│ Hartford        ┆ 7      │\n",
       "│ KY 6 - Madison  ┆ 3      │\n",
       "│ WA 2 - Okanogan ┆ 1      │\n",
       "│ Madison         ┆ 11     │\n",
       "│ …               ┆ …      │\n",
       "│ New Orleans     ┆ 1      │\n",
       "│ AZ 2 - Coconino ┆ 9      │\n",
       "│ Cleveland       ┆ 10     │\n",
       "│ Bellingham      ┆ 9      │\n",
       "└─────────────────┴────────┘"
      ]
     },
     "execution_count": 17,
     "metadata": {},
     "output_type": "execute_result"
    }
   ],
   "source": [
    "df_dis['STARTMARKET'].value_counts()"
   ]
  },
  {
   "cell_type": "code",
   "execution_count": 18,
   "id": "e304ad22-1d25-4bac-97e7-1530c95e9c70",
   "metadata": {},
   "outputs": [
    {
     "data": {
      "text/html": [
       "<div><style>\n",
       ".dataframe > thead > tr > th,\n",
       ".dataframe > tbody > tr > td {\n",
       "  text-align: right;\n",
       "  white-space: pre-wrap;\n",
       "}\n",
       "</style>\n",
       "<small>shape: (257, 1)</small><table border=\"1\" class=\"dataframe\"><thead><tr><th>STARTMARKET</th></tr><tr><td>struct[2]</td></tr></thead><tbody><tr><td>{&quot;Salt Lake City&quot;,83}</td></tr><tr><td>{&quot;Dayton&quot;,14}</td></tr><tr><td>{&quot;Lincoln&quot;,25}</td></tr><tr><td>{&quot;Columbus GA - AL&quot;,1}</td></tr><tr><td>{&quot;NC 15 - Cabarrus&quot;,4}</td></tr><tr><td>{&quot;Gainesville&quot;,20}</td></tr><tr><td>{&quot;WI 3 - Vilas&quot;,7}</td></tr><tr><td>{&quot;Topeka&quot;,11}</td></tr><tr><td>{&quot;IA 3 - Monroe&quot;,2}</td></tr><tr><td>{&quot;Lawton&quot;,2}</td></tr><tr><td>{&quot;VA 10 - Frederick&quot;,3}</td></tr><tr><td>{&quot;Hagerstown&quot;,1}</td></tr><tr><td>&hellip;</td></tr><tr><td>{&quot;Wheeling&quot;,1}</td></tr><tr><td>{&quot;Honolulu&quot;,25}</td></tr><tr><td>{&quot;Florence SC&quot;,6}</td></tr><tr><td>{&quot;Rochester NY&quot;,10}</td></tr><tr><td>{&quot;Oklahoma City&quot;,79}</td></tr><tr><td>{&quot;Kansas City&quot;,146}</td></tr><tr><td>{&quot;WI 10 - Door&quot;,7}</td></tr><tr><td>{&quot;Richmond&quot;,10}</td></tr><tr><td>{&quot;Elkhart&quot;,5}</td></tr><tr><td>{&quot;Waco&quot;,5}</td></tr><tr><td>{&quot;Worcester&quot;,14}</td></tr><tr><td>{&quot;MS 10 - Smith&quot;,3}</td></tr></tbody></table></div>"
      ],
      "text/plain": [
       "shape: (257, 1)\n",
       "┌────────────────────────┐\n",
       "│ STARTMARKET            │\n",
       "│ ---                    │\n",
       "│ struct[2]              │\n",
       "╞════════════════════════╡\n",
       "│ {\"Salt Lake City\",83}  │\n",
       "│ {\"Dayton\",14}          │\n",
       "│ {\"Lincoln\",25}         │\n",
       "│ {\"Columbus GA - AL\",1} │\n",
       "│ …                      │\n",
       "│ {\"Elkhart\",5}          │\n",
       "│ {\"Waco\",5}             │\n",
       "│ {\"Worcester\",14}       │\n",
       "│ {\"MS 10 - Smith\",3}    │\n",
       "└────────────────────────┘"
      ]
     },
     "execution_count": 18,
     "metadata": {},
     "output_type": "execute_result"
    }
   ],
   "source": [
    "df_dis.select(pl.col('STARTMARKET').value_counts())"
   ]
  },
  {
   "cell_type": "code",
   "execution_count": 19,
   "id": "4fce0329-0138-4fd2-9274-8d0fae88463d",
   "metadata": {},
   "outputs": [
    {
     "data": {
      "text/plain": [
       "polars.dataframe.frame.DataFrame"
      ]
     },
     "execution_count": 19,
     "metadata": {},
     "output_type": "execute_result"
    }
   ],
   "source": [
    "type(df_dis)"
   ]
  },
  {
   "cell_type": "code",
   "execution_count": null,
   "id": "c156f05d-33fa-4cdc-b99f-98d31946d977",
   "metadata": {},
   "outputs": [],
   "source": []
  }
 ],
 "metadata": {
  "kernelspec": {
   "display_name": "Python 3 (ipykernel)",
   "language": "python",
   "name": "python3"
  },
  "language_info": {
   "codemirror_mode": {
    "name": "ipython",
    "version": 3
   },
   "file_extension": ".py",
   "mimetype": "text/x-python",
   "name": "python",
   "nbconvert_exporter": "python",
   "pygments_lexer": "ipython3",
   "version": "3.10.8"
  }
 },
 "nbformat": 4,
 "nbformat_minor": 5
}
