{
 "cells": [
  {
   "cell_type": "code",
   "execution_count": 2,
   "id": "048b6f52-e880-4e13-9975-098298743754",
   "metadata": {},
   "outputs": [
    {
     "name": "stdout",
     "output_type": "stream",
     "text": [
      "Collecting polars\n",
      "  Obtaining dependency information for polars from https://files.pythonhosted.org/packages/16/63/91605727212adc4ac8c682b508544c3f68a89e67a2a3ba9c641243aa0966/polars-0.19.3-cp38-abi3-macosx_10_7_x86_64.whl.metadata\n",
      "  Using cached polars-0.19.3-cp38-abi3-macosx_10_7_x86_64.whl.metadata (14 kB)\n",
      "Using cached polars-0.19.3-cp38-abi3-macosx_10_7_x86_64.whl (19.4 MB)\n",
      "Installing collected packages: polars\n",
      "Successfully installed polars-0.19.3\n"
     ]
    }
   ],
   "source": [
    "!pip install polars\n",
    "import pandas as pd\n",
    "import polars as pl"
   ]
  },
  {
   "cell_type": "code",
   "execution_count": 2,
   "id": "a401e792-1514-456f-aac1-52a23fdf27fb",
   "metadata": {},
   "outputs": [],
   "source": [
    "#data = pd.read_csv('Amazon_ecommerce.csv')"
   ]
  },
  {
   "cell_type": "code",
   "execution_count": 3,
   "id": "30a8f042-4141-46cf-a2a8-82763ea71e18",
   "metadata": {},
   "outputs": [],
   "source": [
    "#data.head()"
   ]
  },
  {
   "cell_type": "code",
   "execution_count": 8,
   "id": "88a485c4-4392-4448-85f5-343817f6e83e",
   "metadata": {},
   "outputs": [
    {
     "data": {
      "text/html": [
       "<div>\n",
       "<style scoped>\n",
       "    .dataframe tbody tr th:only-of-type {\n",
       "        vertical-align: middle;\n",
       "    }\n",
       "\n",
       "    .dataframe tbody tr th {\n",
       "        vertical-align: top;\n",
       "    }\n",
       "\n",
       "    .dataframe thead th {\n",
       "        text-align: right;\n",
       "    }\n",
       "</style>\n",
       "<table border=\"1\" class=\"dataframe\">\n",
       "  <thead>\n",
       "    <tr style=\"text-align: right;\">\n",
       "      <th></th>\n",
       "      <th>YEAR</th>\n",
       "      <th>MONTH</th>\n",
       "      <th>counts</th>\n",
       "    </tr>\n",
       "  </thead>\n",
       "  <tbody>\n",
       "    <tr>\n",
       "      <th>0</th>\n",
       "      <td>21</td>\n",
       "      <td>6</td>\n",
       "      <td>2064</td>\n",
       "    </tr>\n",
       "    <tr>\n",
       "      <th>1</th>\n",
       "      <td>21</td>\n",
       "      <td>7</td>\n",
       "      <td>7936</td>\n",
       "    </tr>\n",
       "  </tbody>\n",
       "</table>\n",
       "</div>"
      ],
      "text/plain": [
       "   YEAR  MONTH  counts\n",
       "0    21      6    2064\n",
       "1    21      7    7936"
      ]
     },
     "execution_count": 8,
     "metadata": {},
     "output_type": "execute_result"
    }
   ],
   "source": [
    "month_year_df = data.groupby(['YEAR', 'MONTH']).size().reset_index(name='counts')\n",
    "month_year_df"
   ]
  },
  {
   "cell_type": "code",
   "execution_count": 6,
   "id": "8808ebd1-2b2b-472b-9073-b2456802a55f",
   "metadata": {},
   "outputs": [],
   "source": [
    "q = pl.scan_parquet(\"compressed.parquet\")\n",
    "df = q.collect()"
   ]
  },
  {
   "cell_type": "code",
   "execution_count": 8,
   "id": "5ff66c0c-f3dc-4aed-afb2-3c68f8b2f3c9",
   "metadata": {},
   "outputs": [
    {
     "data": {
      "text/plain": [
       "1000000"
      ]
     },
     "execution_count": 8,
     "metadata": {},
     "output_type": "execute_result"
    }
   ],
   "source": [
    "len(df)"
   ]
  },
  {
   "cell_type": "code",
   "execution_count": 12,
   "id": "f0ddf195-3d7e-4324-a425-1b7d54f980c8",
   "metadata": {},
   "outputs": [],
   "source": [
    "value_counts_df = df.group_by(\"MONTH\").agg(\n",
    "    [\n",
    "        pl.col(\"MONTH\").count().alias(\"count\")\n",
    "    ]\n",
    ").sort(\"count\")"
   ]
  },
  {
   "cell_type": "code",
   "execution_count": 13,
   "id": "c1ef0afe-9709-47ad-a2b7-753d7f947771",
   "metadata": {},
   "outputs": [
    {
     "data": {
      "text/html": [
       "<div><style>\n",
       ".dataframe > thead > tr > th,\n",
       ".dataframe > tbody > tr > td {\n",
       "  text-align: right;\n",
       "  white-space: pre-wrap;\n",
       "}\n",
       "</style>\n",
       "<small>shape: (5, 2)</small><table border=\"1\" class=\"dataframe\"><thead><tr><th>MONTH</th><th>count</th></tr><tr><td>i64</td><td>u32</td></tr></thead><tbody><tr><td>8</td><td>45959</td></tr><tr><td>2</td><td>87224</td></tr><tr><td>3</td><td>157482</td></tr><tr><td>6</td><td>278679</td></tr><tr><td>1</td><td>430656</td></tr></tbody></table></div>"
      ],
      "text/plain": [
       "shape: (5, 2)\n",
       "┌───────┬────────┐\n",
       "│ MONTH ┆ count  │\n",
       "│ ---   ┆ ---    │\n",
       "│ i64   ┆ u32    │\n",
       "╞═══════╪════════╡\n",
       "│ 8     ┆ 45959  │\n",
       "│ 2     ┆ 87224  │\n",
       "│ 3     ┆ 157482 │\n",
       "│ 6     ┆ 278679 │\n",
       "│ 1     ┆ 430656 │\n",
       "└───────┴────────┘"
      ]
     },
     "execution_count": 13,
     "metadata": {},
     "output_type": "execute_result"
    }
   ],
   "source": [
    "value_counts_df"
   ]
  },
  {
   "cell_type": "code",
   "execution_count": null,
   "id": "07ee2049-772c-45d5-ace4-b4fbcee9f79c",
   "metadata": {},
   "outputs": [],
   "source": []
  }
 ],
 "metadata": {
  "kernelspec": {
   "display_name": "Python 3 (ipykernel)",
   "language": "python",
   "name": "python3"
  },
  "language_info": {
   "codemirror_mode": {
    "name": "ipython",
    "version": 3
   },
   "file_extension": ".py",
   "mimetype": "text/x-python",
   "name": "python",
   "nbconvert_exporter": "python",
   "pygments_lexer": "ipython3",
   "version": "3.10.8"
  }
 },
 "nbformat": 4,
 "nbformat_minor": 5
}
