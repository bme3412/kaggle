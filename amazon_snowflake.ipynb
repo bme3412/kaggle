{
 "cells": [
  {
   "cell_type": "code",
   "execution_count": 1,
   "id": "048b6f52-e880-4e13-9975-098298743754",
   "metadata": {},
   "outputs": [
    {
     "name": "stdout",
     "output_type": "stream",
     "text": [
      "Requirement already satisfied: polars in /Users/brendan/myenv/lib/python3.10/site-packages (0.19.3)\n"
     ]
    }
   ],
   "source": [
    "!pip install polars\n",
    "import pandas as pd\n",
    "import polars as pl"
   ]
  },
  {
   "cell_type": "code",
   "execution_count": 2,
   "id": "a401e792-1514-456f-aac1-52a23fdf27fb",
   "metadata": {},
   "outputs": [],
   "source": [
    "#data = pd.read_csv('Amazon_ecommerce.csv')"
   ]
  },
  {
   "cell_type": "code",
   "execution_count": 3,
   "id": "30a8f042-4141-46cf-a2a8-82763ea71e18",
   "metadata": {},
   "outputs": [],
   "source": [
    "#data.head()"
   ]
  },
  {
   "cell_type": "code",
   "execution_count": 8,
   "id": "88a485c4-4392-4448-85f5-343817f6e83e",
   "metadata": {},
   "outputs": [
    {
     "data": {
      "text/html": [
       "<div>\n",
       "<style scoped>\n",
       "    .dataframe tbody tr th:only-of-type {\n",
       "        vertical-align: middle;\n",
       "    }\n",
       "\n",
       "    .dataframe tbody tr th {\n",
       "        vertical-align: top;\n",
       "    }\n",
       "\n",
       "    .dataframe thead th {\n",
       "        text-align: right;\n",
       "    }\n",
       "</style>\n",
       "<table border=\"1\" class=\"dataframe\">\n",
       "  <thead>\n",
       "    <tr style=\"text-align: right;\">\n",
       "      <th></th>\n",
       "      <th>YEAR</th>\n",
       "      <th>MONTH</th>\n",
       "      <th>counts</th>\n",
       "    </tr>\n",
       "  </thead>\n",
       "  <tbody>\n",
       "    <tr>\n",
       "      <th>0</th>\n",
       "      <td>21</td>\n",
       "      <td>6</td>\n",
       "      <td>2064</td>\n",
       "    </tr>\n",
       "    <tr>\n",
       "      <th>1</th>\n",
       "      <td>21</td>\n",
       "      <td>7</td>\n",
       "      <td>7936</td>\n",
       "    </tr>\n",
       "  </tbody>\n",
       "</table>\n",
       "</div>"
      ],
      "text/plain": [
       "   YEAR  MONTH  counts\n",
       "0    21      6    2064\n",
       "1    21      7    7936"
      ]
     },
     "execution_count": 8,
     "metadata": {},
     "output_type": "execute_result"
    }
   ],
   "source": [
    "month_year_df = data.groupby(['YEAR', 'MONTH']).size().reset_index(name='counts')\n",
    "month_year_df"
   ]
  },
  {
   "cell_type": "code",
   "execution_count": 2,
   "id": "8808ebd1-2b2b-472b-9073-b2456802a55f",
   "metadata": {},
   "outputs": [],
   "source": [
    "q = pl.scan_parquet(\"compressed.parquet\")\n",
    "df = q.collect()"
   ]
  },
  {
   "cell_type": "code",
   "execution_count": 3,
   "id": "5ff66c0c-f3dc-4aed-afb2-3c68f8b2f3c9",
   "metadata": {},
   "outputs": [
    {
     "data": {
      "text/plain": [
       "5000000"
      ]
     },
     "execution_count": 3,
     "metadata": {},
     "output_type": "execute_result"
    }
   ],
   "source": [
    "len(df)"
   ]
  },
  {
   "cell_type": "code",
   "execution_count": 4,
   "id": "f0ddf195-3d7e-4324-a425-1b7d54f980c8",
   "metadata": {},
   "outputs": [],
   "source": [
    "value_counts_df = df.group_by(\"MONTH\").agg(\n",
    "    [\n",
    "        pl.col(\"MONTH\").count().alias(\"count\")\n",
    "    ]\n",
    ").sort(\"count\")"
   ]
  },
  {
   "cell_type": "code",
   "execution_count": 5,
   "id": "c1ef0afe-9709-47ad-a2b7-753d7f947771",
   "metadata": {},
   "outputs": [
    {
     "data": {
      "text/html": [
       "<div><style>\n",
       ".dataframe > thead > tr > th,\n",
       ".dataframe > tbody > tr > td {\n",
       "  text-align: right;\n",
       "  white-space: pre-wrap;\n",
       "}\n",
       "</style>\n",
       "<small>shape: (8, 2)</small><table border=\"1\" class=\"dataframe\"><thead><tr><th>MONTH</th><th>count</th></tr><tr><td>i64</td><td>u32</td></tr></thead><tbody><tr><td>2</td><td>117768</td></tr><tr><td>5</td><td>188416</td></tr><tr><td>11</td><td>266240</td></tr><tr><td>8</td><td>286720</td></tr><tr><td>9</td><td>435600</td></tr><tr><td>12</td><td>883252</td></tr><tr><td>1</td><td>1326430</td></tr><tr><td>3</td><td>1495574</td></tr></tbody></table></div>"
      ],
      "text/plain": [
       "shape: (8, 2)\n",
       "┌───────┬─────────┐\n",
       "│ MONTH ┆ count   │\n",
       "│ ---   ┆ ---     │\n",
       "│ i64   ┆ u32     │\n",
       "╞═══════╪═════════╡\n",
       "│ 2     ┆ 117768  │\n",
       "│ 5     ┆ 188416  │\n",
       "│ 11    ┆ 266240  │\n",
       "│ 8     ┆ 286720  │\n",
       "│ 9     ┆ 435600  │\n",
       "│ 12    ┆ 883252  │\n",
       "│ 1     ┆ 1326430 │\n",
       "│ 3     ┆ 1495574 │\n",
       "└───────┴─────────┘"
      ]
     },
     "execution_count": 5,
     "metadata": {},
     "output_type": "execute_result"
    }
   ],
   "source": [
    "value_counts_df"
   ]
  },
  {
   "cell_type": "code",
   "execution_count": 6,
   "id": "07ee2049-772c-45d5-ace4-b4fbcee9f79c",
   "metadata": {},
   "outputs": [
    {
     "data": {
      "text/html": [
       "<div><style>\n",
       ".dataframe > thead > tr > th,\n",
       ".dataframe > tbody > tr > td {\n",
       "  text-align: right;\n",
       "  white-space: pre-wrap;\n",
       "}\n",
       "</style>\n",
       "<small>shape: (5, 12)</small><table border=\"1\" class=\"dataframe\"><thead><tr><th>SITE</th><th>COUNTRY</th><th>YEAR</th><th>MONTH</th><th>PRODUCT</th><th>TITLE</th><th>BRAND</th><th>MAIN_CATEGORY</th><th>SUB_CATEGORY</th><th>ESTIMATED_VIEWS</th><th>ESTIMATED_PURCHASES</th><th>__index_level_0__</th></tr><tr><td>str</td><td>i64</td><td>i64</td><td>i64</td><td>str</td><td>str</td><td>str</td><td>str</td><td>str</td><td>f64</td><td>f64</td><td>i64</td></tr></thead><tbody><tr><td>&quot;amazon.com&quot;</td><td>840</td><td>21</td><td>9</td><td>&quot;b07qd8j36f&quot;</td><td>&quot;Cole Haan Wome…</td><td>&quot;Cole Haan&quot;</td><td>&quot;Clothing, Shoe…</td><td>&quot;Clothing, Shoe…</td><td>231.655369</td><td>9.262786</td><td>0</td></tr><tr><td>&quot;amazon.com&quot;</td><td>840</td><td>21</td><td>9</td><td>&quot;b08knr1165&quot;</td><td>&quot;Cole Haan Wome…</td><td>&quot;Cole Haan&quot;</td><td>&quot;Clothing, Shoe…</td><td>&quot;Clothing, Shoe…</td><td>231.655369</td><td>6.243649</td><td>1</td></tr><tr><td>&quot;amazon.com&quot;</td><td>840</td><td>21</td><td>9</td><td>&quot;b07ttkcp8y&quot;</td><td>&quot;Cole Haan Wome…</td><td>&quot;Cole Haan&quot;</td><td>&quot;Clothing, Shoe…</td><td>&quot;Clothing, Shoe…</td><td>231.655369</td><td>6.243649</td><td>2</td></tr><tr><td>&quot;amazon.com&quot;</td><td>840</td><td>21</td><td>9</td><td>&quot;b08srgp5mx&quot;</td><td>&quot;Cole Haan Men&#x27;…</td><td>&quot;Cole Haan&quot;</td><td>&quot;Clothing, Shoe…</td><td>&quot;Clothing, Shoe…</td><td>231.655369</td><td>6.96933</td><td>3</td></tr><tr><td>&quot;amazon.com&quot;</td><td>840</td><td>21</td><td>9</td><td>&quot;b07mvd63nn&quot;</td><td>&quot;Cole Haan Wome…</td><td>&quot;Cole Haan&quot;</td><td>&quot;Clothing, Shoe…</td><td>&quot;Clothing, Shoe…</td><td>231.655369</td><td>6.243649</td><td>4</td></tr></tbody></table></div>"
      ],
      "text/plain": [
       "shape: (5, 12)\n",
       "┌────────────┬─────────┬──────┬───────┬───┬──────────────┬─────────────┬─────────────┬─────────────┐\n",
       "│ SITE       ┆ COUNTRY ┆ YEAR ┆ MONTH ┆ … ┆ SUB_CATEGORY ┆ ESTIMATED_V ┆ ESTIMATED_P ┆ __index_lev │\n",
       "│ ---        ┆ ---     ┆ ---  ┆ ---   ┆   ┆ ---          ┆ IEWS        ┆ URCHASES    ┆ el_0__      │\n",
       "│ str        ┆ i64     ┆ i64  ┆ i64   ┆   ┆ str          ┆ ---         ┆ ---         ┆ ---         │\n",
       "│            ┆         ┆      ┆       ┆   ┆              ┆ f64         ┆ f64         ┆ i64         │\n",
       "╞════════════╪═════════╪══════╪═══════╪═══╪══════════════╪═════════════╪═════════════╪═════════════╡\n",
       "│ amazon.com ┆ 840     ┆ 21   ┆ 9     ┆ … ┆ Clothing,    ┆ 231.655369  ┆ 9.262786    ┆ 0           │\n",
       "│            ┆         ┆      ┆       ┆   ┆ Shoes &      ┆             ┆             ┆             │\n",
       "│            ┆         ┆      ┆       ┆   ┆ Jewelry -    ┆             ┆             ┆             │\n",
       "│            ┆         ┆      ┆       ┆   ┆ Wome…        ┆             ┆             ┆             │\n",
       "│ amazon.com ┆ 840     ┆ 21   ┆ 9     ┆ … ┆ Clothing,    ┆ 231.655369  ┆ 6.243649    ┆ 1           │\n",
       "│            ┆         ┆      ┆       ┆   ┆ Shoes &      ┆             ┆             ┆             │\n",
       "│            ┆         ┆      ┆       ┆   ┆ Jewelry -    ┆             ┆             ┆             │\n",
       "│            ┆         ┆      ┆       ┆   ┆ Wome…        ┆             ┆             ┆             │\n",
       "│ amazon.com ┆ 840     ┆ 21   ┆ 9     ┆ … ┆ Clothing,    ┆ 231.655369  ┆ 6.243649    ┆ 2           │\n",
       "│            ┆         ┆      ┆       ┆   ┆ Shoes &      ┆             ┆             ┆             │\n",
       "│            ┆         ┆      ┆       ┆   ┆ Jewelry -    ┆             ┆             ┆             │\n",
       "│            ┆         ┆      ┆       ┆   ┆ Wome…        ┆             ┆             ┆             │\n",
       "│ amazon.com ┆ 840     ┆ 21   ┆ 9     ┆ … ┆ Clothing,    ┆ 231.655369  ┆ 6.96933     ┆ 3           │\n",
       "│            ┆         ┆      ┆       ┆   ┆ Shoes &      ┆             ┆             ┆             │\n",
       "│            ┆         ┆      ┆       ┆   ┆ Jewelry -    ┆             ┆             ┆             │\n",
       "│            ┆         ┆      ┆       ┆   ┆ Wome…        ┆             ┆             ┆             │\n",
       "│ amazon.com ┆ 840     ┆ 21   ┆ 9     ┆ … ┆ Clothing,    ┆ 231.655369  ┆ 6.243649    ┆ 4           │\n",
       "│            ┆         ┆      ┆       ┆   ┆ Shoes &      ┆             ┆             ┆             │\n",
       "│            ┆         ┆      ┆       ┆   ┆ Jewelry -    ┆             ┆             ┆             │\n",
       "│            ┆         ┆      ┆       ┆   ┆ Wome…        ┆             ┆             ┆             │\n",
       "└────────────┴─────────┴──────┴───────┴───┴──────────────┴─────────────┴─────────────┴─────────────┘"
      ]
     },
     "execution_count": 6,
     "metadata": {},
     "output_type": "execute_result"
    }
   ],
   "source": [
    "df.head()"
   ]
  },
  {
   "cell_type": "code",
   "execution_count": 15,
   "id": "1554f505-d924-4992-8ad5-9b35bc10d8a1",
   "metadata": {},
   "outputs": [
    {
     "data": {
      "text/plain": [
       "polars.dataframe.frame.DataFrame"
      ]
     },
     "execution_count": 15,
     "metadata": {},
     "output_type": "execute_result"
    }
   ],
   "source": [
    "type(df['BRAND'].value_counts())\n",
    "#.sort_values(by='counts', ascending=False)"
   ]
  },
  {
   "cell_type": "code",
   "execution_count": 22,
   "id": "0901a4e9-cdcb-456a-b74d-ca610e734203",
   "metadata": {},
   "outputs": [
    {
     "data": {
      "text/plain": [
       "polars.dataframe.frame.DataFrame"
      ]
     },
     "execution_count": 22,
     "metadata": {},
     "output_type": "execute_result"
    }
   ],
   "source": [
    "# Step 1: Count the occurrences of each unique value in the 'Name' column\n",
    "count_df = df.group_by('BRAND').agg(pl.col('BRAND').count().alias('Frequency'))\n",
    "\n",
    "# Step 2: Join this with the original DataFrame\n",
    "df_with_count = df.join(count_df, on='BRAND')\n",
    "\n",
    "# Step 3: Sort the DataFrame by 'Frequency' column (for example, in descending order)\n",
    "sorted_df = df_with_count.sort('Frequency')\n",
    "type(df_with_count)"
   ]
  },
  {
   "cell_type": "code",
   "execution_count": 24,
   "id": "fd4ef11d-ac51-40b7-b973-c2edd7bd6209",
   "metadata": {},
   "outputs": [
    {
     "data": {
      "text/html": [
       "<div><style>\n",
       ".dataframe > thead > tr > th,\n",
       ".dataframe > tbody > tr > td {\n",
       "  text-align: right;\n",
       "  white-space: pre-wrap;\n",
       "}\n",
       "</style>\n",
       "<small>shape: (10, 13)</small><table border=\"1\" class=\"dataframe\"><thead><tr><th>SITE</th><th>COUNTRY</th><th>YEAR</th><th>MONTH</th><th>PRODUCT</th><th>TITLE</th><th>BRAND</th><th>MAIN_CATEGORY</th><th>SUB_CATEGORY</th><th>ESTIMATED_VIEWS</th><th>ESTIMATED_PURCHASES</th><th>__index_level_0__</th><th>Frequency</th></tr><tr><td>str</td><td>i64</td><td>i64</td><td>i64</td><td>str</td><td>str</td><td>str</td><td>str</td><td>str</td><td>f64</td><td>f64</td><td>i64</td><td>u32</td></tr></thead><tbody><tr><td>&quot;amazon.com&quot;</td><td>840</td><td>21</td><td>12</td><td>&quot;b08ydb5yk9&quot;</td><td>&quot;Demon Slayer K…</td><td>&quot;N/A&quot;</td><td>&quot;Clothing, Shoe…</td><td>&quot;Clothing, Shoe…</td><td>2351.927553</td><td>45.416795</td><td>2446</td><td>31157</td></tr><tr><td>&quot;amazon.com&quot;</td><td>840</td><td>21</td><td>12</td><td>&quot;b09m426f4g&quot;</td><td>&quot;SHoufu Wood Ma…</td><td>&quot;N/A&quot;</td><td>&quot;Home &amp; Kitchen…</td><td>&quot;Home &amp; Kitchen…</td><td>251.992238</td><td>13.635792</td><td>2447</td><td>31157</td></tr><tr><td>&quot;amazon.com&quot;</td><td>840</td><td>21</td><td>12</td><td>&quot;b09m4351zv&quot;</td><td>&quot;SHoufu Wood Ma…</td><td>&quot;N/A&quot;</td><td>&quot;Home &amp; Kitchen…</td><td>&quot;Home &amp; Kitchen…</td><td>251.992238</td><td>13.155417</td><td>2448</td><td>31157</td></tr><tr><td>&quot;amazon.com&quot;</td><td>840</td><td>21</td><td>12</td><td>&quot;b0083zzpke&quot;</td><td>&quot;The Glories of…</td><td>&quot;N/A&quot;</td><td>&quot;Kindle Store&quot;</td><td>&quot;Kindle Store -…</td><td>251.992238</td><td>0.913457</td><td>2449</td><td>31157</td></tr><tr><td>&quot;amazon.com&quot;</td><td>840</td><td>21</td><td>12</td><td>&quot;b0082qcqh4&quot;</td><td>&quot;Kalevala : the…</td><td>&quot;N/A&quot;</td><td>&quot;Kindle Store&quot;</td><td>&quot;Kindle Store -…</td><td>923.971539</td><td>2.324613</td><td>2450</td><td>31157</td></tr><tr><td>&quot;amazon.com&quot;</td><td>840</td><td>21</td><td>12</td><td>&quot;b0082vccs2&quot;</td><td>&quot;Best Russian S…</td><td>&quot;N/A&quot;</td><td>&quot;Kindle Store&quot;</td><td>&quot;Kindle Store -…</td><td>251.992238</td><td>0.883023</td><td>2451</td><td>31157</td></tr><tr><td>&quot;amazon.com&quot;</td><td>840</td><td>21</td><td>12</td><td>&quot;b0015asm72&quot;</td><td>&quot;Cauliflower Ea…</td><td>&quot;N/A&quot;</td><td>&quot;Movies &amp; TV&quot;</td><td>&quot;Movies &amp; TV - …</td><td>251.992238</td><td>10.086851</td><td>2452</td><td>31157</td></tr><tr><td>&quot;amazon.com&quot;</td><td>840</td><td>21</td><td>12</td><td>&quot;b07g1z1d5d&quot;</td><td>&quot;Law &amp; Order Sp…</td><td>&quot;N/A&quot;</td><td>&quot;Movies &amp; TV&quot;</td><td>&quot;Movies &amp; TV - …</td><td>503.984476</td><td>30.150209</td><td>2453</td><td>31157</td></tr><tr><td>&quot;amazon.com&quot;</td><td>840</td><td>21</td><td>12</td><td>&quot;b09mz83qv4&quot;</td><td>&quot;N/AB SHoufu We…</td><td>&quot;N/A&quot;</td><td>&quot;Sports &amp; Outdo…</td><td>&quot;Sports &amp; Outdo…</td><td>251.992238</td><td>11.180606</td><td>2454</td><td>31157</td></tr><tr><td>&quot;amazon.com&quot;</td><td>840</td><td>21</td><td>12</td><td>&quot;b00v98gu6a&quot;</td><td>&quot;Trivial Pursui…</td><td>&quot;N/A&quot;</td><td>&quot;Toys &amp; Games&quot;</td><td>&quot;Toys &amp; Games -…</td><td>251.992238</td><td>13.521358</td><td>2455</td><td>31157</td></tr></tbody></table></div>"
      ],
      "text/plain": [
       "shape: (10, 13)\n",
       "┌────────────┬─────────┬──────┬───────┬───┬──────────────┬──────────────┬──────────────┬───────────┐\n",
       "│ SITE       ┆ COUNTRY ┆ YEAR ┆ MONTH ┆ … ┆ ESTIMATED_VI ┆ ESTIMATED_PU ┆ __index_leve ┆ Frequency │\n",
       "│ ---        ┆ ---     ┆ ---  ┆ ---   ┆   ┆ EWS          ┆ RCHASES      ┆ l_0__        ┆ ---       │\n",
       "│ str        ┆ i64     ┆ i64  ┆ i64   ┆   ┆ ---          ┆ ---          ┆ ---          ┆ u32       │\n",
       "│            ┆         ┆      ┆       ┆   ┆ f64          ┆ f64          ┆ i64          ┆           │\n",
       "╞════════════╪═════════╪══════╪═══════╪═══╪══════════════╪══════════════╪══════════════╪═══════════╡\n",
       "│ amazon.com ┆ 840     ┆ 21   ┆ 12    ┆ … ┆ 2351.927553  ┆ 45.416795    ┆ 2446         ┆ 31157     │\n",
       "│ amazon.com ┆ 840     ┆ 21   ┆ 12    ┆ … ┆ 251.992238   ┆ 13.635792    ┆ 2447         ┆ 31157     │\n",
       "│ amazon.com ┆ 840     ┆ 21   ┆ 12    ┆ … ┆ 251.992238   ┆ 13.155417    ┆ 2448         ┆ 31157     │\n",
       "│ amazon.com ┆ 840     ┆ 21   ┆ 12    ┆ … ┆ 251.992238   ┆ 0.913457     ┆ 2449         ┆ 31157     │\n",
       "│ …          ┆ …       ┆ …    ┆ …     ┆ … ┆ …            ┆ …            ┆ …            ┆ …         │\n",
       "│ amazon.com ┆ 840     ┆ 21   ┆ 12    ┆ … ┆ 251.992238   ┆ 10.086851    ┆ 2452         ┆ 31157     │\n",
       "│ amazon.com ┆ 840     ┆ 21   ┆ 12    ┆ … ┆ 503.984476   ┆ 30.150209    ┆ 2453         ┆ 31157     │\n",
       "│ amazon.com ┆ 840     ┆ 21   ┆ 12    ┆ … ┆ 251.992238   ┆ 11.180606    ┆ 2454         ┆ 31157     │\n",
       "│ amazon.com ┆ 840     ┆ 21   ┆ 12    ┆ … ┆ 251.992238   ┆ 13.521358    ┆ 2455         ┆ 31157     │\n",
       "└────────────┴─────────┴──────┴───────┴───┴──────────────┴──────────────┴──────────────┴───────────┘"
      ]
     },
     "execution_count": 24,
     "metadata": {},
     "output_type": "execute_result"
    }
   ],
   "source": [
    "sorted_df.tail(10)"
   ]
  },
  {
   "cell_type": "code",
   "execution_count": null,
   "id": "dd8030f3-2544-4a3b-82a3-88110dc99901",
   "metadata": {},
   "outputs": [],
   "source": []
  }
 ],
 "metadata": {
  "kernelspec": {
   "display_name": "Python 3 (ipykernel)",
   "language": "python",
   "name": "python3"
  },
  "language_info": {
   "codemirror_mode": {
    "name": "ipython",
    "version": 3
   },
   "file_extension": ".py",
   "mimetype": "text/x-python",
   "name": "python",
   "nbconvert_exporter": "python",
   "pygments_lexer": "ipython3",
   "version": "3.10.8"
  }
 },
 "nbformat": 4,
 "nbformat_minor": 5
}
